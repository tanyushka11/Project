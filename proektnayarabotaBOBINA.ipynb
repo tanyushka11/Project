{
  "cells": [
    {
      "cell_type": "markdown",
      "metadata": {
        "id": "oYvrs27Oj4yR"
      },
      "source": []
    },
    {
      "cell_type": "code",
      "execution_count": 1,
      "metadata": {
        "colab": {
          "base_uri": "https://localhost:8080/"
        },
        "id": "7BBqjNJXj7n6",
        "outputId": "f38541a9-468f-4cf2-f01f-289a457d16ec"
      },
      "outputs": [
        {
          "output_type": "stream",
          "name": "stdout",
          "text": [
            "Looking in indexes: https://pypi.org/simple, https://us-python.pkg.dev/colab-wheels/public/simple/\n",
            "Collecting geopandas\n",
            "  Downloading geopandas-0.13.0-py3-none-any.whl (1.1 MB)\n",
            "\u001b[2K     \u001b[90m━━━━━━━━━━━━━━━━━━━━━━━━━━━━━━━━━━━━━━━━\u001b[0m \u001b[32m1.1/1.1 MB\u001b[0m \u001b[31m8.4 MB/s\u001b[0m eta \u001b[36m0:00:00\u001b[0m\n",
            "\u001b[?25hCollecting fiona>=1.8.19 (from geopandas)\n",
            "  Downloading Fiona-1.9.3-cp310-cp310-manylinux_2_17_x86_64.manylinux2014_x86_64.whl (16.0 MB)\n",
            "\u001b[2K     \u001b[90m━━━━━━━━━━━━━━━━━━━━━━━━━━━━━━━━━━━━━━━━\u001b[0m \u001b[32m16.0/16.0 MB\u001b[0m \u001b[31m49.2 MB/s\u001b[0m eta \u001b[36m0:00:00\u001b[0m\n",
            "\u001b[?25hRequirement already satisfied: packaging in /usr/local/lib/python3.10/dist-packages (from geopandas) (23.1)\n",
            "Requirement already satisfied: pandas>=1.1.0 in /usr/local/lib/python3.10/dist-packages (from geopandas) (1.5.3)\n",
            "Collecting pyproj>=3.0.1 (from geopandas)\n",
            "  Downloading pyproj-3.5.0-cp310-cp310-manylinux_2_17_x86_64.manylinux2014_x86_64.whl (7.7 MB)\n",
            "\u001b[2K     \u001b[90m━━━━━━━━━━━━━━━━━━━━━━━━━━━━━━━━━━━━━━━━\u001b[0m \u001b[32m7.7/7.7 MB\u001b[0m \u001b[31m57.7 MB/s\u001b[0m eta \u001b[36m0:00:00\u001b[0m\n",
            "\u001b[?25hRequirement already satisfied: shapely>=1.7.1 in /usr/local/lib/python3.10/dist-packages (from geopandas) (2.0.1)\n",
            "Requirement already satisfied: attrs>=19.2.0 in /usr/local/lib/python3.10/dist-packages (from fiona>=1.8.19->geopandas) (23.1.0)\n",
            "Requirement already satisfied: certifi in /usr/local/lib/python3.10/dist-packages (from fiona>=1.8.19->geopandas) (2022.12.7)\n",
            "Requirement already satisfied: click~=8.0 in /usr/local/lib/python3.10/dist-packages (from fiona>=1.8.19->geopandas) (8.1.3)\n",
            "Collecting click-plugins>=1.0 (from fiona>=1.8.19->geopandas)\n",
            "  Downloading click_plugins-1.1.1-py2.py3-none-any.whl (7.5 kB)\n",
            "Collecting cligj>=0.5 (from fiona>=1.8.19->geopandas)\n",
            "  Downloading cligj-0.7.2-py3-none-any.whl (7.1 kB)\n",
            "Collecting munch>=2.3.2 (from fiona>=1.8.19->geopandas)\n",
            "  Downloading munch-2.5.0-py2.py3-none-any.whl (10 kB)\n",
            "Requirement already satisfied: python-dateutil>=2.8.1 in /usr/local/lib/python3.10/dist-packages (from pandas>=1.1.0->geopandas) (2.8.2)\n",
            "Requirement already satisfied: pytz>=2020.1 in /usr/local/lib/python3.10/dist-packages (from pandas>=1.1.0->geopandas) (2022.7.1)\n",
            "Requirement already satisfied: numpy>=1.21.0 in /usr/local/lib/python3.10/dist-packages (from pandas>=1.1.0->geopandas) (1.22.4)\n",
            "Requirement already satisfied: six in /usr/local/lib/python3.10/dist-packages (from munch>=2.3.2->fiona>=1.8.19->geopandas) (1.16.0)\n",
            "Installing collected packages: pyproj, munch, cligj, click-plugins, fiona, geopandas\n",
            "Successfully installed click-plugins-1.1.1 cligj-0.7.2 fiona-1.9.3 geopandas-0.13.0 munch-2.5.0 pyproj-3.5.0\n"
          ]
        }
      ],
      "source": [
        "\n",
        "!pip install geopandas\n",
        "import geopandas as gpd"
      ]
    },
    {
      "cell_type": "code",
      "execution_count": 2,
      "metadata": {
        "colab": {
          "base_uri": "https://localhost:8080/"
        },
        "id": "7oGqoZHh7TYD",
        "outputId": "6017b1cb-8e25-4ae4-bb51-1963e17048ee"
      },
      "outputs": [
        {
          "output_type": "stream",
          "name": "stdout",
          "text": [
            "Looking in indexes: https://pypi.org/simple, https://us-python.pkg.dev/colab-wheels/public/simple/\n",
            "Requirement already satisfied: wheel in /usr/local/lib/python3.10/dist-packages (0.40.0)\n"
          ]
        }
      ],
      "source": [
        "pip install wheel"
      ]
    },
    {
      "cell_type": "code",
      "execution_count": 3,
      "metadata": {
        "colab": {
          "base_uri": "https://localhost:8080/"
        },
        "id": "aGL1ddKv7es-",
        "outputId": "2fd8add9-7ac9-4d75-9074-24270da8522d"
      },
      "outputs": [
        {
          "output_type": "stream",
          "name": "stdout",
          "text": [
            "Looking in indexes: https://pypi.org/simple, https://us-python.pkg.dev/colab-wheels/public/simple/\n",
            "Collecting pipwin\n",
            "  Downloading pipwin-0.5.2.tar.gz (7.9 kB)\n",
            "  Preparing metadata (setup.py) ... \u001b[?25l\u001b[?25hdone\n",
            "Collecting docopt (from pipwin)\n",
            "  Downloading docopt-0.6.2.tar.gz (25 kB)\n",
            "  Preparing metadata (setup.py) ... \u001b[?25l\u001b[?25hdone\n",
            "Requirement already satisfied: requests in /usr/local/lib/python3.10/dist-packages (from pipwin) (2.27.1)\n",
            "Collecting pyprind (from pipwin)\n",
            "  Downloading PyPrind-2.11.3-py2.py3-none-any.whl (8.4 kB)\n",
            "Requirement already satisfied: six in /usr/local/lib/python3.10/dist-packages (from pipwin) (1.16.0)\n",
            "Requirement already satisfied: beautifulsoup4>=4.9.0 in /usr/local/lib/python3.10/dist-packages (from pipwin) (4.11.2)\n",
            "Collecting js2py (from pipwin)\n",
            "  Downloading Js2Py-0.74-py3-none-any.whl (1.0 MB)\n",
            "\u001b[2K     \u001b[90m━━━━━━━━━━━━━━━━━━━━━━━━━━━━━━━━━━━━━━━━\u001b[0m \u001b[32m1.0/1.0 MB\u001b[0m \u001b[31m19.9 MB/s\u001b[0m eta \u001b[36m0:00:00\u001b[0m\n",
            "\u001b[?25hRequirement already satisfied: packaging in /usr/local/lib/python3.10/dist-packages (from pipwin) (23.1)\n",
            "Collecting pySmartDL>=1.3.1 (from pipwin)\n",
            "  Downloading pySmartDL-1.3.4-py3-none-any.whl (20 kB)\n",
            "Requirement already satisfied: soupsieve>1.2 in /usr/local/lib/python3.10/dist-packages (from beautifulsoup4>=4.9.0->pipwin) (2.4.1)\n",
            "Requirement already satisfied: tzlocal>=1.2 in /usr/local/lib/python3.10/dist-packages (from js2py->pipwin) (4.3)\n",
            "Collecting pyjsparser>=2.5.1 (from js2py->pipwin)\n",
            "  Downloading pyjsparser-2.7.1.tar.gz (24 kB)\n",
            "  Preparing metadata (setup.py) ... \u001b[?25l\u001b[?25hdone\n",
            "Requirement already satisfied: urllib3<1.27,>=1.21.1 in /usr/local/lib/python3.10/dist-packages (from requests->pipwin) (1.26.15)\n",
            "Requirement already satisfied: certifi>=2017.4.17 in /usr/local/lib/python3.10/dist-packages (from requests->pipwin) (2022.12.7)\n",
            "Requirement already satisfied: charset-normalizer~=2.0.0 in /usr/local/lib/python3.10/dist-packages (from requests->pipwin) (2.0.12)\n",
            "Requirement already satisfied: idna<4,>=2.5 in /usr/local/lib/python3.10/dist-packages (from requests->pipwin) (3.4)\n",
            "Requirement already satisfied: pytz-deprecation-shim in /usr/local/lib/python3.10/dist-packages (from tzlocal>=1.2->js2py->pipwin) (0.1.0.post0)\n",
            "Requirement already satisfied: tzdata in /usr/local/lib/python3.10/dist-packages (from pytz-deprecation-shim->tzlocal>=1.2->js2py->pipwin) (2023.3)\n",
            "Building wheels for collected packages: pipwin, docopt, pyjsparser\n",
            "  Building wheel for pipwin (setup.py) ... \u001b[?25l\u001b[?25hdone\n",
            "  Created wheel for pipwin: filename=pipwin-0.5.2-py2.py3-none-any.whl size=8773 sha256=67b0361ddc395df66cab1d7e75dce2a587f6a6a3e9ff1bae11e140c35f5b9524\n",
            "  Stored in directory: /root/.cache/pip/wheels/b4/2c/53/c5a91c548b9f030b592608c24efda23ff966b1cceac6414765\n",
            "  Building wheel for docopt (setup.py) ... \u001b[?25l\u001b[?25hdone\n",
            "  Created wheel for docopt: filename=docopt-0.6.2-py2.py3-none-any.whl size=13707 sha256=869eefdaa9bcf0043102358c2a7388e61ea3659dec9832a71f058a48d33fc772\n",
            "  Stored in directory: /root/.cache/pip/wheels/fc/ab/d4/5da2067ac95b36618c629a5f93f809425700506f72c9732fac\n",
            "  Building wheel for pyjsparser (setup.py) ... \u001b[?25l\u001b[?25hdone\n",
            "  Created wheel for pyjsparser: filename=pyjsparser-2.7.1-py3-none-any.whl size=25984 sha256=c2e8e606434d16b8f63999336f1eb6687d1d3839f7a16d7dfa76c6411e599696\n",
            "  Stored in directory: /root/.cache/pip/wheels/5e/81/26/5956478df303e2bf5a85a5df595bb307bd25948a4bab69f7c7\n",
            "Successfully built pipwin docopt pyjsparser\n",
            "Installing collected packages: pySmartDL, pyprind, pyjsparser, docopt, js2py, pipwin\n",
            "Successfully installed docopt-0.6.2 js2py-0.74 pipwin-0.5.2 pySmartDL-1.3.4 pyjsparser-2.7.1 pyprind-2.11.3\n"
          ]
        }
      ],
      "source": [
        "pip install pipwin"
      ]
    },
    {
      "cell_type": "code",
      "execution_count": 4,
      "metadata": {
        "colab": {
          "base_uri": "https://localhost:8080/"
        },
        "id": "AwiBm0Cl7raL",
        "outputId": "b4237da1-04b5-4356-cc4f-dfe2a9ae4968"
      },
      "outputs": [
        {
          "output_type": "stream",
          "name": "stdout",
          "text": [
            "Looking in indexes: https://pypi.org/simple, https://us-python.pkg.dev/colab-wheels/public/simple/\n",
            "Requirement already satisfied: numpy in /usr/local/lib/python3.10/dist-packages (1.22.4)\n"
          ]
        }
      ],
      "source": [
        "pip install numpy"
      ]
    },
    {
      "cell_type": "code",
      "execution_count": 5,
      "metadata": {
        "colab": {
          "base_uri": "https://localhost:8080/"
        },
        "id": "0NX-TFq373vs",
        "outputId": "0488cd2e-5036-4e75-888a-22541a3ad23a"
      },
      "outputs": [
        {
          "output_type": "stream",
          "name": "stdout",
          "text": [
            "Looking in indexes: https://pypi.org/simple, https://us-python.pkg.dev/colab-wheels/public/simple/\n",
            "Requirement already satisfied: pandas in /usr/local/lib/python3.10/dist-packages (1.5.3)\n",
            "Requirement already satisfied: python-dateutil>=2.8.1 in /usr/local/lib/python3.10/dist-packages (from pandas) (2.8.2)\n",
            "Requirement already satisfied: pytz>=2020.1 in /usr/local/lib/python3.10/dist-packages (from pandas) (2022.7.1)\n",
            "Requirement already satisfied: numpy>=1.21.0 in /usr/local/lib/python3.10/dist-packages (from pandas) (1.22.4)\n",
            "Requirement already satisfied: six>=1.5 in /usr/local/lib/python3.10/dist-packages (from python-dateutil>=2.8.1->pandas) (1.16.0)\n"
          ]
        }
      ],
      "source": [
        "pip install pandas"
      ]
    },
    {
      "cell_type": "code",
      "execution_count": 6,
      "metadata": {
        "colab": {
          "base_uri": "https://localhost:8080/"
        },
        "id": "9g3ASTdU9ihx",
        "outputId": "4b0be5d8-6567-427a-f15e-512e4ca75f7e"
      },
      "outputs": [
        {
          "output_type": "stream",
          "name": "stdout",
          "text": [
            "Looking in indexes: https://pypi.org/simple, https://us-python.pkg.dev/colab-wheels/public/simple/\n",
            "Requirement already satisfied: shapely in /usr/local/lib/python3.10/dist-packages (2.0.1)\n",
            "Requirement already satisfied: numpy>=1.14 in /usr/local/lib/python3.10/dist-packages (from shapely) (1.22.4)\n"
          ]
        }
      ],
      "source": [
        "pip install shapely"
      ]
    },
    {
      "cell_type": "code",
      "execution_count": 7,
      "metadata": {
        "colab": {
          "base_uri": "https://localhost:8080/"
        },
        "id": "aNgqaG9P91HU",
        "outputId": "ac5f42ec-877d-4cdb-c62c-d8cb8d6b3ee9"
      },
      "outputs": [
        {
          "output_type": "stream",
          "name": "stdout",
          "text": [
            "Looking in indexes: https://pypi.org/simple, https://us-python.pkg.dev/colab-wheels/public/simple/\n",
            "Requirement already satisfied: gdal in /usr/local/lib/python3.10/dist-packages (3.3.2)\n"
          ]
        }
      ],
      "source": [
        "pip install gdal"
      ]
    },
    {
      "cell_type": "code",
      "execution_count": 8,
      "metadata": {
        "colab": {
          "base_uri": "https://localhost:8080/"
        },
        "id": "Y4U_kZKd974y",
        "outputId": "5a5e3fcf-de5d-4b0b-90ad-7c2fc4ef2ef4"
      },
      "outputs": [
        {
          "output_type": "stream",
          "name": "stdout",
          "text": [
            "Looking in indexes: https://pypi.org/simple, https://us-python.pkg.dev/colab-wheels/public/simple/\n",
            "Requirement already satisfied: fiona in /usr/local/lib/python3.10/dist-packages (1.9.3)\n",
            "Requirement already satisfied: attrs>=19.2.0 in /usr/local/lib/python3.10/dist-packages (from fiona) (23.1.0)\n",
            "Requirement already satisfied: certifi in /usr/local/lib/python3.10/dist-packages (from fiona) (2022.12.7)\n",
            "Requirement already satisfied: click~=8.0 in /usr/local/lib/python3.10/dist-packages (from fiona) (8.1.3)\n",
            "Requirement already satisfied: click-plugins>=1.0 in /usr/local/lib/python3.10/dist-packages (from fiona) (1.1.1)\n",
            "Requirement already satisfied: cligj>=0.5 in /usr/local/lib/python3.10/dist-packages (from fiona) (0.7.2)\n",
            "Requirement already satisfied: munch>=2.3.2 in /usr/local/lib/python3.10/dist-packages (from fiona) (2.5.0)\n",
            "Requirement already satisfied: six in /usr/local/lib/python3.10/dist-packages (from munch>=2.3.2->fiona) (1.16.0)\n"
          ]
        }
      ],
      "source": [
        "pip install fiona"
      ]
    },
    {
      "cell_type": "code",
      "execution_count": 9,
      "metadata": {
        "colab": {
          "base_uri": "https://localhost:8080/"
        },
        "id": "EfSn0TBi-DbU",
        "outputId": "f13b943f-e842-4015-e0e6-fd1a5e6d2637"
      },
      "outputs": [
        {
          "output_type": "stream",
          "name": "stdout",
          "text": [
            "Looking in indexes: https://pypi.org/simple, https://us-python.pkg.dev/colab-wheels/public/simple/\n",
            "Requirement already satisfied: pyproj in /usr/local/lib/python3.10/dist-packages (3.5.0)\n",
            "Requirement already satisfied: certifi in /usr/local/lib/python3.10/dist-packages (from pyproj) (2022.12.7)\n"
          ]
        }
      ],
      "source": [
        "pip install pyproj"
      ]
    },
    {
      "cell_type": "code",
      "execution_count": 10,
      "metadata": {
        "colab": {
          "base_uri": "https://localhost:8080/"
        },
        "id": "XzxtRoZR-KR9",
        "outputId": "d03c9463-0afa-4ff1-a54d-591e7abf5517"
      },
      "outputs": [
        {
          "output_type": "stream",
          "name": "stdout",
          "text": [
            "Looking in indexes: https://pypi.org/simple, https://us-python.pkg.dev/colab-wheels/public/simple/\n",
            "Collecting rtree\n",
            "  Downloading Rtree-1.0.1-cp310-cp310-manylinux_2_17_x86_64.manylinux2014_x86_64.whl (1.0 MB)\n",
            "\u001b[2K     \u001b[90m━━━━━━━━━━━━━━━━━━━━━━━━━━━━━━━━━━━━━━━━\u001b[0m \u001b[32m1.0/1.0 MB\u001b[0m \u001b[31m16.6 MB/s\u001b[0m eta \u001b[36m0:00:00\u001b[0m\n",
            "\u001b[?25hInstalling collected packages: rtree\n",
            "Successfully installed rtree-1.0.1\n"
          ]
        }
      ],
      "source": [
        "pip install rtree"
      ]
    },
    {
      "cell_type": "code",
      "execution_count": 11,
      "metadata": {
        "colab": {
          "base_uri": "https://localhost:8080/"
        },
        "id": "hZSLYiwB-RU0",
        "outputId": "1bc77ffe-e015-4ca7-a1b7-38e5b364c08c"
      },
      "outputs": [
        {
          "output_type": "stream",
          "name": "stdout",
          "text": [
            "Looking in indexes: https://pypi.org/simple, https://us-python.pkg.dev/colab-wheels/public/simple/\n",
            "Requirement already satisfied: geopandas in /usr/local/lib/python3.10/dist-packages (0.13.0)\n",
            "Requirement already satisfied: fiona>=1.8.19 in /usr/local/lib/python3.10/dist-packages (from geopandas) (1.9.3)\n",
            "Requirement already satisfied: packaging in /usr/local/lib/python3.10/dist-packages (from geopandas) (23.1)\n",
            "Requirement already satisfied: pandas>=1.1.0 in /usr/local/lib/python3.10/dist-packages (from geopandas) (1.5.3)\n",
            "Requirement already satisfied: pyproj>=3.0.1 in /usr/local/lib/python3.10/dist-packages (from geopandas) (3.5.0)\n",
            "Requirement already satisfied: shapely>=1.7.1 in /usr/local/lib/python3.10/dist-packages (from geopandas) (2.0.1)\n",
            "Requirement already satisfied: attrs>=19.2.0 in /usr/local/lib/python3.10/dist-packages (from fiona>=1.8.19->geopandas) (23.1.0)\n",
            "Requirement already satisfied: certifi in /usr/local/lib/python3.10/dist-packages (from fiona>=1.8.19->geopandas) (2022.12.7)\n",
            "Requirement already satisfied: click~=8.0 in /usr/local/lib/python3.10/dist-packages (from fiona>=1.8.19->geopandas) (8.1.3)\n",
            "Requirement already satisfied: click-plugins>=1.0 in /usr/local/lib/python3.10/dist-packages (from fiona>=1.8.19->geopandas) (1.1.1)\n",
            "Requirement already satisfied: cligj>=0.5 in /usr/local/lib/python3.10/dist-packages (from fiona>=1.8.19->geopandas) (0.7.2)\n",
            "Requirement already satisfied: munch>=2.3.2 in /usr/local/lib/python3.10/dist-packages (from fiona>=1.8.19->geopandas) (2.5.0)\n",
            "Requirement already satisfied: python-dateutil>=2.8.1 in /usr/local/lib/python3.10/dist-packages (from pandas>=1.1.0->geopandas) (2.8.2)\n",
            "Requirement already satisfied: pytz>=2020.1 in /usr/local/lib/python3.10/dist-packages (from pandas>=1.1.0->geopandas) (2022.7.1)\n",
            "Requirement already satisfied: numpy>=1.21.0 in /usr/local/lib/python3.10/dist-packages (from pandas>=1.1.0->geopandas) (1.22.4)\n",
            "Requirement already satisfied: six in /usr/local/lib/python3.10/dist-packages (from munch>=2.3.2->fiona>=1.8.19->geopandas) (1.16.0)\n"
          ]
        }
      ],
      "source": [
        "pip install geopandas"
      ]
    },
    {
      "cell_type": "code",
      "execution_count": 12,
      "metadata": {
        "colab": {
          "base_uri": "https://localhost:8080/"
        },
        "id": "IGm4l1jM-q1w",
        "outputId": "f8c95823-6c6a-4a82-bf8e-453395f38b9a"
      },
      "outputs": [
        {
          "output_type": "stream",
          "name": "stdout",
          "text": [
            "Looking in indexes: https://pypi.org/simple, https://us-python.pkg.dev/colab-wheels/public/simple/\n",
            "Requirement already satisfied: matplotlib in /usr/local/lib/python3.10/dist-packages (3.7.1)\n",
            "Requirement already satisfied: contourpy>=1.0.1 in /usr/local/lib/python3.10/dist-packages (from matplotlib) (1.0.7)\n",
            "Requirement already satisfied: cycler>=0.10 in /usr/local/lib/python3.10/dist-packages (from matplotlib) (0.11.0)\n",
            "Requirement already satisfied: fonttools>=4.22.0 in /usr/local/lib/python3.10/dist-packages (from matplotlib) (4.39.3)\n",
            "Requirement already satisfied: kiwisolver>=1.0.1 in /usr/local/lib/python3.10/dist-packages (from matplotlib) (1.4.4)\n",
            "Requirement already satisfied: numpy>=1.20 in /usr/local/lib/python3.10/dist-packages (from matplotlib) (1.22.4)\n",
            "Requirement already satisfied: packaging>=20.0 in /usr/local/lib/python3.10/dist-packages (from matplotlib) (23.1)\n",
            "Requirement already satisfied: pillow>=6.2.0 in /usr/local/lib/python3.10/dist-packages (from matplotlib) (8.4.0)\n",
            "Requirement already satisfied: pyparsing>=2.3.1 in /usr/local/lib/python3.10/dist-packages (from matplotlib) (3.0.9)\n",
            "Requirement already satisfied: python-dateutil>=2.7 in /usr/local/lib/python3.10/dist-packages (from matplotlib) (2.8.2)\n",
            "Requirement already satisfied: six>=1.5 in /usr/local/lib/python3.10/dist-packages (from python-dateutil>=2.7->matplotlib) (1.16.0)\n"
          ]
        }
      ],
      "source": [
        "pip install matplotlib"
      ]
    },
    {
      "cell_type": "code",
      "execution_count": 13,
      "metadata": {
        "colab": {
          "base_uri": "https://localhost:8080/"
        },
        "id": "l58EhePF-7-o",
        "outputId": "fda24f8f-863a-4351-9af0-2f5cdfda76ff"
      },
      "outputs": [
        {
          "output_type": "stream",
          "name": "stdout",
          "text": [
            "Reading package lists... Done\n",
            "Building dependency tree       \n",
            "Reading state information... Done\n",
            "Package python-gdal is not available, but is referred to by another package.\n",
            "This may mean that the package is missing, has been obsoleted, or\n",
            "is only available from another source\n",
            "However the following packages replace it:\n",
            "  gdal-bin\n",
            "\n",
            "\u001b[1;31mE: \u001b[0mPackage 'python-gdal' has no installation candidate\u001b[0m\n",
            "Reading package lists... Done\n",
            "Building dependency tree       \n",
            "Reading state information... Done\n",
            "The following additional packages will be installed:\n",
            "  javascript-common libjs-jquery libjs-underscore libspatialindex-c6\n",
            "  libspatialindex-dev libspatialindex6\n",
            "Suggested packages:\n",
            "  apache2 | lighttpd | httpd\n",
            "The following NEW packages will be installed:\n",
            "  javascript-common libjs-jquery libjs-underscore libspatialindex-c6\n",
            "  libspatialindex-dev libspatialindex6 python3-rtree\n",
            "0 upgraded, 7 newly installed, 0 to remove and 24 not upgraded.\n",
            "Need to get 829 kB of archives.\n",
            "After this operation, 3,054 kB of additional disk space will be used.\n",
            "Get:1 http://archive.ubuntu.com/ubuntu focal/main amd64 javascript-common all 11 [6,066 B]\n",
            "Get:2 http://archive.ubuntu.com/ubuntu focal/main amd64 libjs-jquery all 3.3.1~dfsg-3 [329 kB]\n",
            "Get:3 http://archive.ubuntu.com/ubuntu focal-updates/main amd64 libjs-underscore all 1.9.1~dfsg-1ubuntu0.20.04.1 [99.5 kB]\n",
            "Get:4 http://archive.ubuntu.com/ubuntu focal/universe amd64 libspatialindex6 amd64 1.9.3-1build1 [266 kB]\n",
            "Get:5 http://archive.ubuntu.com/ubuntu focal/universe amd64 libspatialindex-c6 amd64 1.9.3-1build1 [58.3 kB]\n",
            "Get:6 http://archive.ubuntu.com/ubuntu focal/universe amd64 libspatialindex-dev amd64 1.9.3-1build1 [16.0 kB]\n",
            "Get:7 http://archive.ubuntu.com/ubuntu focal/universe amd64 python3-rtree all 0.9.4-1 [54.0 kB]\n",
            "Fetched 829 kB in 0s (1,955 kB/s)\n",
            "Selecting previously unselected package javascript-common.\n",
            "(Reading database ... 122518 files and directories currently installed.)\n",
            "Preparing to unpack .../0-javascript-common_11_all.deb ...\n",
            "Unpacking javascript-common (11) ...\n",
            "Selecting previously unselected package libjs-jquery.\n",
            "Preparing to unpack .../1-libjs-jquery_3.3.1~dfsg-3_all.deb ...\n",
            "Unpacking libjs-jquery (3.3.1~dfsg-3) ...\n",
            "Selecting previously unselected package libjs-underscore.\n",
            "Preparing to unpack .../2-libjs-underscore_1.9.1~dfsg-1ubuntu0.20.04.1_all.deb ...\n",
            "Unpacking libjs-underscore (1.9.1~dfsg-1ubuntu0.20.04.1) ...\n",
            "Selecting previously unselected package libspatialindex6:amd64.\n",
            "Preparing to unpack .../3-libspatialindex6_1.9.3-1build1_amd64.deb ...\n",
            "Unpacking libspatialindex6:amd64 (1.9.3-1build1) ...\n",
            "Selecting previously unselected package libspatialindex-c6:amd64.\n",
            "Preparing to unpack .../4-libspatialindex-c6_1.9.3-1build1_amd64.deb ...\n",
            "Unpacking libspatialindex-c6:amd64 (1.9.3-1build1) ...\n",
            "Selecting previously unselected package libspatialindex-dev:amd64.\n",
            "Preparing to unpack .../5-libspatialindex-dev_1.9.3-1build1_amd64.deb ...\n",
            "Unpacking libspatialindex-dev:amd64 (1.9.3-1build1) ...\n",
            "Selecting previously unselected package python3-rtree.\n",
            "Preparing to unpack .../6-python3-rtree_0.9.4-1_all.deb ...\n",
            "Unpacking python3-rtree (0.9.4-1) ...\n",
            "Setting up javascript-common (11) ...\n",
            "Setting up libspatialindex6:amd64 (1.9.3-1build1) ...\n",
            "Setting up libjs-jquery (3.3.1~dfsg-3) ...\n",
            "Setting up libjs-underscore (1.9.1~dfsg-1ubuntu0.20.04.1) ...\n",
            "Setting up libspatialindex-c6:amd64 (1.9.3-1build1) ...\n",
            "Setting up libspatialindex-dev:amd64 (1.9.3-1build1) ...\n",
            "Setting up python3-rtree (0.9.4-1) ...\n",
            "Processing triggers for libc-bin (2.31-0ubuntu9.9) ...\n",
            "Looking in indexes: https://pypi.org/simple, https://us-python.pkg.dev/colab-wheels/public/simple/\n",
            "Collecting descartes\n",
            "  Downloading descartes-1.1.0-py3-none-any.whl (5.8 kB)\n",
            "Requirement already satisfied: matplotlib in /usr/local/lib/python3.10/dist-packages (from descartes) (3.7.1)\n",
            "Requirement already satisfied: contourpy>=1.0.1 in /usr/local/lib/python3.10/dist-packages (from matplotlib->descartes) (1.0.7)\n",
            "Requirement already satisfied: cycler>=0.10 in /usr/local/lib/python3.10/dist-packages (from matplotlib->descartes) (0.11.0)\n",
            "Requirement already satisfied: fonttools>=4.22.0 in /usr/local/lib/python3.10/dist-packages (from matplotlib->descartes) (4.39.3)\n",
            "Requirement already satisfied: kiwisolver>=1.0.1 in /usr/local/lib/python3.10/dist-packages (from matplotlib->descartes) (1.4.4)\n",
            "Requirement already satisfied: numpy>=1.20 in /usr/local/lib/python3.10/dist-packages (from matplotlib->descartes) (1.22.4)\n",
            "Requirement already satisfied: packaging>=20.0 in /usr/local/lib/python3.10/dist-packages (from matplotlib->descartes) (23.1)\n",
            "Requirement already satisfied: pillow>=6.2.0 in /usr/local/lib/python3.10/dist-packages (from matplotlib->descartes) (8.4.0)\n",
            "Requirement already satisfied: pyparsing>=2.3.1 in /usr/local/lib/python3.10/dist-packages (from matplotlib->descartes) (3.0.9)\n",
            "Requirement already satisfied: python-dateutil>=2.7 in /usr/local/lib/python3.10/dist-packages (from matplotlib->descartes) (2.8.2)\n",
            "Requirement already satisfied: six>=1.5 in /usr/local/lib/python3.10/dist-packages (from python-dateutil>=2.7->matplotlib->descartes) (1.16.0)\n",
            "Installing collected packages: descartes\n",
            "Successfully installed descartes-1.1.0\n",
            "Looking in indexes: https://pypi.org/simple, https://us-python.pkg.dev/colab-wheels/public/simple/\n",
            "Requirement already satisfied: geopandas in /usr/local/lib/python3.10/dist-packages (0.13.0)\n",
            "Requirement already satisfied: fiona>=1.8.19 in /usr/local/lib/python3.10/dist-packages (from geopandas) (1.9.3)\n",
            "Requirement already satisfied: packaging in /usr/local/lib/python3.10/dist-packages (from geopandas) (23.1)\n",
            "Requirement already satisfied: pandas>=1.1.0 in /usr/local/lib/python3.10/dist-packages (from geopandas) (1.5.3)\n",
            "Requirement already satisfied: pyproj>=3.0.1 in /usr/local/lib/python3.10/dist-packages (from geopandas) (3.5.0)\n",
            "Requirement already satisfied: shapely>=1.7.1 in /usr/local/lib/python3.10/dist-packages (from geopandas) (2.0.1)\n",
            "Requirement already satisfied: attrs>=19.2.0 in /usr/local/lib/python3.10/dist-packages (from fiona>=1.8.19->geopandas) (23.1.0)\n",
            "Requirement already satisfied: certifi in /usr/local/lib/python3.10/dist-packages (from fiona>=1.8.19->geopandas) (2022.12.7)\n",
            "Requirement already satisfied: click~=8.0 in /usr/local/lib/python3.10/dist-packages (from fiona>=1.8.19->geopandas) (8.1.3)\n",
            "Requirement already satisfied: click-plugins>=1.0 in /usr/local/lib/python3.10/dist-packages (from fiona>=1.8.19->geopandas) (1.1.1)\n",
            "Requirement already satisfied: cligj>=0.5 in /usr/local/lib/python3.10/dist-packages (from fiona>=1.8.19->geopandas) (0.7.2)\n",
            "Requirement already satisfied: munch>=2.3.2 in /usr/local/lib/python3.10/dist-packages (from fiona>=1.8.19->geopandas) (2.5.0)\n",
            "Requirement already satisfied: python-dateutil>=2.8.1 in /usr/local/lib/python3.10/dist-packages (from pandas>=1.1.0->geopandas) (2.8.2)\n",
            "Requirement already satisfied: pytz>=2020.1 in /usr/local/lib/python3.10/dist-packages (from pandas>=1.1.0->geopandas) (2022.7.1)\n",
            "Requirement already satisfied: numpy>=1.21.0 in /usr/local/lib/python3.10/dist-packages (from pandas>=1.1.0->geopandas) (1.22.4)\n",
            "Requirement already satisfied: six in /usr/local/lib/python3.10/dist-packages (from munch>=2.3.2->fiona>=1.8.19->geopandas) (1.16.0)\n"
          ]
        }
      ],
      "source": [
        "!apt install gdal-bin python-gdal python3-gdal\n",
        "!apt install python3-rtree \n",
        "!pip install descartes\n",
        "!pip install geopandas\n",
        "import geopandas as gpd"
      ]
    },
    {
      "cell_type": "code",
      "execution_count": 14,
      "metadata": {
        "colab": {
          "base_uri": "https://localhost:8080/"
        },
        "id": "bHQsonHnHy8N",
        "outputId": "4cd07c22-0184-42e5-adce-27226e25a6fb"
      },
      "outputs": [
        {
          "output_type": "stream",
          "name": "stdout",
          "text": [
            "Looking in indexes: https://pypi.org/simple, https://us-python.pkg.dev/colab-wheels/public/simple/\n",
            "Requirement already satisfied: geopandas in /usr/local/lib/python3.10/dist-packages (0.13.0)\n",
            "Requirement already satisfied: fiona>=1.8.19 in /usr/local/lib/python3.10/dist-packages (from geopandas) (1.9.3)\n",
            "Requirement already satisfied: packaging in /usr/local/lib/python3.10/dist-packages (from geopandas) (23.1)\n",
            "Requirement already satisfied: pandas>=1.1.0 in /usr/local/lib/python3.10/dist-packages (from geopandas) (1.5.3)\n",
            "Requirement already satisfied: pyproj>=3.0.1 in /usr/local/lib/python3.10/dist-packages (from geopandas) (3.5.0)\n",
            "Requirement already satisfied: shapely>=1.7.1 in /usr/local/lib/python3.10/dist-packages (from geopandas) (2.0.1)\n",
            "Requirement already satisfied: attrs>=19.2.0 in /usr/local/lib/python3.10/dist-packages (from fiona>=1.8.19->geopandas) (23.1.0)\n",
            "Requirement already satisfied: certifi in /usr/local/lib/python3.10/dist-packages (from fiona>=1.8.19->geopandas) (2022.12.7)\n",
            "Requirement already satisfied: click~=8.0 in /usr/local/lib/python3.10/dist-packages (from fiona>=1.8.19->geopandas) (8.1.3)\n",
            "Requirement already satisfied: click-plugins>=1.0 in /usr/local/lib/python3.10/dist-packages (from fiona>=1.8.19->geopandas) (1.1.1)\n",
            "Requirement already satisfied: cligj>=0.5 in /usr/local/lib/python3.10/dist-packages (from fiona>=1.8.19->geopandas) (0.7.2)\n",
            "Requirement already satisfied: munch>=2.3.2 in /usr/local/lib/python3.10/dist-packages (from fiona>=1.8.19->geopandas) (2.5.0)\n",
            "Requirement already satisfied: python-dateutil>=2.8.1 in /usr/local/lib/python3.10/dist-packages (from pandas>=1.1.0->geopandas) (2.8.2)\n",
            "Requirement already satisfied: pytz>=2020.1 in /usr/local/lib/python3.10/dist-packages (from pandas>=1.1.0->geopandas) (2022.7.1)\n",
            "Requirement already satisfied: numpy>=1.21.0 in /usr/local/lib/python3.10/dist-packages (from pandas>=1.1.0->geopandas) (1.22.4)\n",
            "Requirement already satisfied: six in /usr/local/lib/python3.10/dist-packages (from munch>=2.3.2->fiona>=1.8.19->geopandas) (1.16.0)\n"
          ]
        }
      ],
      "source": [
        "!pip install geopandas\n",
        "import geopandas as gpd"
      ]
    },
    {
      "cell_type": "code",
      "execution_count": 15,
      "metadata": {
        "id": "UGv8DWzd_2fZ"
      },
      "outputs": [],
      "source": [
        "from google.colab import files"
      ]
    },
    {
      "cell_type": "code",
      "execution_count": 16,
      "metadata": {
        "colab": {
          "base_uri": "https://localhost:8080/",
          "height": 73
        },
        "id": "9EEINbuJ-Xha",
        "outputId": "a5b07b75-f544-44d9-87f1-24d5757f4182"
      },
      "outputs": [
        {
          "output_type": "display_data",
          "data": {
            "text/plain": [
              "<IPython.core.display.HTML object>"
            ],
            "text/html": [
              "\n",
              "     <input type=\"file\" id=\"files-9da3d112-0f46-4619-b988-9b99a9cad460\" name=\"files[]\" multiple disabled\n",
              "        style=\"border:none\" />\n",
              "     <output id=\"result-9da3d112-0f46-4619-b988-9b99a9cad460\">\n",
              "      Upload widget is only available when the cell has been executed in the\n",
              "      current browser session. Please rerun this cell to enable.\n",
              "      </output>\n",
              "      <script>// Copyright 2017 Google LLC\n",
              "//\n",
              "// Licensed under the Apache License, Version 2.0 (the \"License\");\n",
              "// you may not use this file except in compliance with the License.\n",
              "// You may obtain a copy of the License at\n",
              "//\n",
              "//      http://www.apache.org/licenses/LICENSE-2.0\n",
              "//\n",
              "// Unless required by applicable law or agreed to in writing, software\n",
              "// distributed under the License is distributed on an \"AS IS\" BASIS,\n",
              "// WITHOUT WARRANTIES OR CONDITIONS OF ANY KIND, either express or implied.\n",
              "// See the License for the specific language governing permissions and\n",
              "// limitations under the License.\n",
              "\n",
              "/**\n",
              " * @fileoverview Helpers for google.colab Python module.\n",
              " */\n",
              "(function(scope) {\n",
              "function span(text, styleAttributes = {}) {\n",
              "  const element = document.createElement('span');\n",
              "  element.textContent = text;\n",
              "  for (const key of Object.keys(styleAttributes)) {\n",
              "    element.style[key] = styleAttributes[key];\n",
              "  }\n",
              "  return element;\n",
              "}\n",
              "\n",
              "// Max number of bytes which will be uploaded at a time.\n",
              "const MAX_PAYLOAD_SIZE = 100 * 1024;\n",
              "\n",
              "function _uploadFiles(inputId, outputId) {\n",
              "  const steps = uploadFilesStep(inputId, outputId);\n",
              "  const outputElement = document.getElementById(outputId);\n",
              "  // Cache steps on the outputElement to make it available for the next call\n",
              "  // to uploadFilesContinue from Python.\n",
              "  outputElement.steps = steps;\n",
              "\n",
              "  return _uploadFilesContinue(outputId);\n",
              "}\n",
              "\n",
              "// This is roughly an async generator (not supported in the browser yet),\n",
              "// where there are multiple asynchronous steps and the Python side is going\n",
              "// to poll for completion of each step.\n",
              "// This uses a Promise to block the python side on completion of each step,\n",
              "// then passes the result of the previous step as the input to the next step.\n",
              "function _uploadFilesContinue(outputId) {\n",
              "  const outputElement = document.getElementById(outputId);\n",
              "  const steps = outputElement.steps;\n",
              "\n",
              "  const next = steps.next(outputElement.lastPromiseValue);\n",
              "  return Promise.resolve(next.value.promise).then((value) => {\n",
              "    // Cache the last promise value to make it available to the next\n",
              "    // step of the generator.\n",
              "    outputElement.lastPromiseValue = value;\n",
              "    return next.value.response;\n",
              "  });\n",
              "}\n",
              "\n",
              "/**\n",
              " * Generator function which is called between each async step of the upload\n",
              " * process.\n",
              " * @param {string} inputId Element ID of the input file picker element.\n",
              " * @param {string} outputId Element ID of the output display.\n",
              " * @return {!Iterable<!Object>} Iterable of next steps.\n",
              " */\n",
              "function* uploadFilesStep(inputId, outputId) {\n",
              "  const inputElement = document.getElementById(inputId);\n",
              "  inputElement.disabled = false;\n",
              "\n",
              "  const outputElement = document.getElementById(outputId);\n",
              "  outputElement.innerHTML = '';\n",
              "\n",
              "  const pickedPromise = new Promise((resolve) => {\n",
              "    inputElement.addEventListener('change', (e) => {\n",
              "      resolve(e.target.files);\n",
              "    });\n",
              "  });\n",
              "\n",
              "  const cancel = document.createElement('button');\n",
              "  inputElement.parentElement.appendChild(cancel);\n",
              "  cancel.textContent = 'Cancel upload';\n",
              "  const cancelPromise = new Promise((resolve) => {\n",
              "    cancel.onclick = () => {\n",
              "      resolve(null);\n",
              "    };\n",
              "  });\n",
              "\n",
              "  // Wait for the user to pick the files.\n",
              "  const files = yield {\n",
              "    promise: Promise.race([pickedPromise, cancelPromise]),\n",
              "    response: {\n",
              "      action: 'starting',\n",
              "    }\n",
              "  };\n",
              "\n",
              "  cancel.remove();\n",
              "\n",
              "  // Disable the input element since further picks are not allowed.\n",
              "  inputElement.disabled = true;\n",
              "\n",
              "  if (!files) {\n",
              "    return {\n",
              "      response: {\n",
              "        action: 'complete',\n",
              "      }\n",
              "    };\n",
              "  }\n",
              "\n",
              "  for (const file of files) {\n",
              "    const li = document.createElement('li');\n",
              "    li.append(span(file.name, {fontWeight: 'bold'}));\n",
              "    li.append(span(\n",
              "        `(${file.type || 'n/a'}) - ${file.size} bytes, ` +\n",
              "        `last modified: ${\n",
              "            file.lastModifiedDate ? file.lastModifiedDate.toLocaleDateString() :\n",
              "                                    'n/a'} - `));\n",
              "    const percent = span('0% done');\n",
              "    li.appendChild(percent);\n",
              "\n",
              "    outputElement.appendChild(li);\n",
              "\n",
              "    const fileDataPromise = new Promise((resolve) => {\n",
              "      const reader = new FileReader();\n",
              "      reader.onload = (e) => {\n",
              "        resolve(e.target.result);\n",
              "      };\n",
              "      reader.readAsArrayBuffer(file);\n",
              "    });\n",
              "    // Wait for the data to be ready.\n",
              "    let fileData = yield {\n",
              "      promise: fileDataPromise,\n",
              "      response: {\n",
              "        action: 'continue',\n",
              "      }\n",
              "    };\n",
              "\n",
              "    // Use a chunked sending to avoid message size limits. See b/62115660.\n",
              "    let position = 0;\n",
              "    do {\n",
              "      const length = Math.min(fileData.byteLength - position, MAX_PAYLOAD_SIZE);\n",
              "      const chunk = new Uint8Array(fileData, position, length);\n",
              "      position += length;\n",
              "\n",
              "      const base64 = btoa(String.fromCharCode.apply(null, chunk));\n",
              "      yield {\n",
              "        response: {\n",
              "          action: 'append',\n",
              "          file: file.name,\n",
              "          data: base64,\n",
              "        },\n",
              "      };\n",
              "\n",
              "      let percentDone = fileData.byteLength === 0 ?\n",
              "          100 :\n",
              "          Math.round((position / fileData.byteLength) * 100);\n",
              "      percent.textContent = `${percentDone}% done`;\n",
              "\n",
              "    } while (position < fileData.byteLength);\n",
              "  }\n",
              "\n",
              "  // All done.\n",
              "  yield {\n",
              "    response: {\n",
              "      action: 'complete',\n",
              "    }\n",
              "  };\n",
              "}\n",
              "\n",
              "scope.google = scope.google || {};\n",
              "scope.google.colab = scope.google.colab || {};\n",
              "scope.google.colab._files = {\n",
              "  _uploadFiles,\n",
              "  _uploadFilesContinue,\n",
              "};\n",
              "})(self);\n",
              "</script> "
            ]
          },
          "metadata": {}
        },
        {
          "output_type": "stream",
          "name": "stdout",
          "text": [
            "Saving moskovskaia-oblast.geojson to moskovskaia-oblast.geojson\n"
          ]
        }
      ],
      "source": [
        "uploaded = files.upload()"
      ]
    },
    {
      "cell_type": "code",
      "execution_count": 17,
      "metadata": {
        "colab": {
          "base_uri": "https://localhost:8080/"
        },
        "id": "g7Y3zN-b-cv4",
        "outputId": "b31a48f6-b951-46a5-c101-7d4171ee81fd"
      },
      "outputs": [
        {
          "output_type": "execute_result",
          "data": {
            "text/plain": [
              "dict"
            ]
          },
          "metadata": {},
          "execution_count": 17
        }
      ],
      "source": [
        "type(uploaded)"
      ]
    },
    {
      "cell_type": "code",
      "execution_count": 18,
      "metadata": {
        "id": "Pb0vLe5d-Xtl",
        "colab": {
          "base_uri": "https://localhost:8080/"
        },
        "outputId": "8ae89ad2-e6fc-47dc-e4ec-45198c8bcbc2"
      },
      "outputs": [
        {
          "output_type": "stream",
          "name": "stderr",
          "text": [
            "ERROR:fiona._env:Pointer 'hGeom' is NULL in 'OGR_G_GetGeometryType'.\n",
            "\n",
            "ERROR:fiona._env:Pointer 'hGeom' is NULL in 'OGR_G_GetGeometryType'.\n",
            "\n",
            "ERROR:fiona._env:Pointer 'hGeom' is NULL in 'OGR_G_GetGeometryType'.\n",
            "\n"
          ]
        }
      ],
      "source": [
        "df = gpd.read_file(r\"/content/moskovskaia-oblast.geojson\")"
      ]
    },
    {
      "cell_type": "code",
      "execution_count": 19,
      "metadata": {
        "colab": {
          "base_uri": "https://localhost:8080/",
          "height": 1000
        },
        "id": "LUW-oh-a-X5H",
        "outputId": "17f020bd-b105-426c-db32-945bed4ad5dd"
      },
      "outputs": [
        {
          "output_type": "execute_result",
          "data": {
            "text/plain": [
              "            id                                               tags  \\\n",
              "0      2152021                [Дорожно-транспортные происшествия]   \n",
              "1      2144587                [Дорожно-транспортные происшествия]   \n",
              "2      2160233                [Дорожно-транспортные происшествия]   \n",
              "3      2165667                [Дорожно-транспортные происшествия]   \n",
              "4      2501444                [Дорожно-транспортные происшествия]   \n",
              "...        ...                                                ...   \n",
              "47114  2135111                [Дорожно-транспортные происшествия]   \n",
              "47115  2135154                [Дорожно-транспортные происшествия]   \n",
              "47116  2148619  [Дорожно-транспортные происшествия, ДТП и пост...   \n",
              "47117  2148630                [Дорожно-транспортные происшествия]   \n",
              "47118  2148634                [Дорожно-транспортные происшествия]   \n",
              "\n",
              "                                             light  \\\n",
              "0         В темное время суток, освещение включено   \n",
              "1                              Светлое время суток   \n",
              "2      В темное время суток, освещение отсутствует   \n",
              "3         В темное время суток, освещение включено   \n",
              "4                              Светлое время суток   \n",
              "...                                            ...   \n",
              "47114                          Светлое время суток   \n",
              "47115                          Светлое время суток   \n",
              "47116                          Светлое время суток   \n",
              "47117                          Светлое время суток   \n",
              "47118     В темное время суток, освещение включено   \n",
              "\n",
              "                                       point  \\\n",
              "0      {'lat': 55.870062, 'long': 37.993727}   \n",
              "1      {'lat': 55.868966, 'long': 37.992911}   \n",
              "2      {'lat': 56.071667, 'long': 38.293333}   \n",
              "3      {'lat': 55.880992, 'long': 38.003705}   \n",
              "4      {'lat': 55.859117, 'long': 37.983395}   \n",
              "...                                      ...   \n",
              "47114      {'lat': 55.8027, 'long': 38.0193}   \n",
              "47115      {'lat': 55.0689, 'long': 37.0364}   \n",
              "47116      {'lat': 55.4729, 'long': 37.5555}   \n",
              "47117         {'lat': 55.46, 'long': 37.548}   \n",
              "47118       {'lat': 55.8273, 'long': 37.955}   \n",
              "\n",
              "                                                  nearby      region scheme  \\\n",
              "0                  [Жилые дома индивидуальной застройки]  Щелковский    070   \n",
              "1      [Многоквартирные жилые дома, Жилые дома индиви...  Щелковский    740   \n",
              "2                                                     []  Щелковский    600   \n",
              "3                             [Регулируемый перекресток]  Щелковский    300   \n",
              "4                         [Надземный пешеходный переход]  Щелковский    200   \n",
              "...                                                  ...         ...    ...   \n",
              "47114  [Жилые дома индивидуальной застройки, Остановк...    Балашиха    070   \n",
              "47115   [Внутридворовая территория, Лечебные учреждения]    Балашиха    880   \n",
              "47116  [Многоквартирные жилые дома, Остановка обществ...    Балашиха    740   \n",
              "47117  [Жилые дома индивидуальной застройки, Нерегули...    Балашиха    500   \n",
              "47118  [Многоквартирные жилые дома, Нерегулируемый пе...    Балашиха    430   \n",
              "\n",
              "                                                 address            weather  \\\n",
              "0      д Медвежьи Озера, А-103 Щелковское шоссе Москв...         [Пасмурно]   \n",
              "1      д Медвежьи Озера, А-103 Щелковское шоссе Москв...         [Пасмурно]   \n",
              "2                                 ЩЕЛКОВО-ФРЯНОВО, 31 км         [Снегопад]   \n",
              "3      А-103 Щелковское шоссе Москва - Щелково - авто...  [Пасмурно, Дождь]   \n",
              "4      д Долгое Ледово, А-103 Щелковское шоссе Москва...             [Ясно]   \n",
              "...                                                  ...                ...   \n",
              "47114  г Балашиха, М-7 Волга Москва - Владимир - Нижн...             [Ясно]   \n",
              "47115                       г Балашиха, пр-кт Ленина, 63         [Пасмурно]   \n",
              "47116                           г Балашиха, ул Разина, 8             [Ясно]   \n",
              "47117  г Балашиха, Балашиха-Салтыковка-ст. Никольская...             [Ясно]   \n",
              "47118                        г Балашиха, ул Звездная, 10            [Дождь]   \n",
              "\n",
              "                     category  ... severity  \\\n",
              "0                Столкновение  ...   Легкий   \n",
              "1           Наезд на пешехода  ...  Тяжёлый   \n",
              "2               Опрокидывание  ...  Тяжёлый   \n",
              "3                Столкновение  ...   Легкий   \n",
              "4                Столкновение  ...   Легкий   \n",
              "...                       ...  ...      ...   \n",
              "47114            Столкновение  ...   Легкий   \n",
              "47115       Наезд на пешехода  ...  Тяжёлый   \n",
              "47116  Наезд на велосипедиста  ...  Тяжёлый   \n",
              "47117            Столкновение  ...   Легкий   \n",
              "47118            Столкновение  ...   Легкий   \n",
              "\n",
              "                                                vehicles dead_count  \\\n",
              "0      [ { \"year\": 2018, \"brand\": \"HYUNDAI\", \"color\":...          0   \n",
              "1      [ { \"year\": 2006, \"brand\": \"SKODA\", \"color\": \"...          0   \n",
              "2      [ { \"year\": 2011, \"brand\": \"HYUNDAI\", \"color\":...          0   \n",
              "3      [ { \"year\": 2012, \"brand\": \"ВАЗ\", \"color\": \"Се...          0   \n",
              "4      [ { \"year\": 2014, \"brand\": \"SKODA\", \"color\": \"...          0   \n",
              "...                                                  ...        ...   \n",
              "47114  [ { \"year\": 2013, \"brand\": \"ГАЗ\", \"color\": \"Бе...          0   \n",
              "47115  [ { \"year\": 2010, \"brand\": \"NISSAN\", \"color\": ...          0   \n",
              "47116  [ { \"year\": 2008, \"brand\": \"TRABANT\", \"color\":...          0   \n",
              "47117  [ { \"year\": 2015, \"brand\": \"KIA\", \"color\": \"Бе...          0   \n",
              "47118  [ { \"year\": 2013, \"brand\": \"NISSAN\", \"color\": ...          0   \n",
              "\n",
              "                                            participants injured_count  \\\n",
              "0                                                    [ ]             1   \n",
              "1      [ { \"role\": \"Пешеход\", \"gender\": \"Женский\", \"v...             1   \n",
              "2                                                    [ ]             2   \n",
              "3                                                    [ ]             1   \n",
              "4                                                    [ ]             1   \n",
              "...                                                  ...           ...   \n",
              "47114                                                [ ]             1   \n",
              "47115  [ { \"role\": \"Пешеход\", \"gender\": \"Женский\", \"v...             1   \n",
              "47116                                                [ ]             1   \n",
              "47117                                                [ ]             1   \n",
              "47118                                                [ ]             1   \n",
              "\n",
              "            parent_region                                    road_conditions  \\\n",
              "0      Московская область                                            [Сухое]   \n",
              "1      Московская область                                            [Сухое]   \n",
              "2      Московская область                                      [Заснеженное]   \n",
              "3      Московская область                                           [Мокрое]   \n",
              "4      Московская область                                          [Пыльное]   \n",
              "...                   ...                                                ...   \n",
              "47114  Московская область                                            [Сухое]   \n",
              "47115  Московская область  [Недостатки зимнего содержания, Со снежным нак...   \n",
              "47116  Московская область     [Сухое, Неудовлетворительное состояние обочин]   \n",
              "47117  Московская область  [Сухое, Отсутствие, плохая различимость горизо...   \n",
              "47118  Московская область  [Мокрое, Отсутствие, плохая различимость гориз...   \n",
              "\n",
              "      participants_count                participant_categories  \\\n",
              "0                      4                       [Все участники]   \n",
              "1                      2             [Пешеходы, Все участники]   \n",
              "2                      3                       [Все участники]   \n",
              "3                      2                       [Все участники]   \n",
              "4                      2                       [Все участники]   \n",
              "...                  ...                                   ...   \n",
              "47114                  3                       [Все участники]   \n",
              "47115                  2             [Пешеходы, Все участники]   \n",
              "47116                  2  [Велосипедисты, Дети, Все участники]   \n",
              "47117                  3                       [Все участники]   \n",
              "47118                  2                       [Все участники]   \n",
              "\n",
              "                        geometry  \n",
              "0      POINT (37.99373 55.87006)  \n",
              "1      POINT (37.99291 55.86897)  \n",
              "2      POINT (38.29333 56.07167)  \n",
              "3      POINT (38.00370 55.88099)  \n",
              "4      POINT (37.98340 55.85912)  \n",
              "...                          ...  \n",
              "47114  POINT (38.01930 55.80270)  \n",
              "47115  POINT (37.03640 55.06890)  \n",
              "47116  POINT (37.55550 55.47290)  \n",
              "47117  POINT (37.54800 55.46000)  \n",
              "47118  POINT (37.95500 55.82730)  \n",
              "\n",
              "[47119 rows x 21 columns]"
            ],
            "text/html": [
              "\n",
              "  <div id=\"df-751f9ffa-e63a-4c19-a114-da199e8d2aca\">\n",
              "    <div class=\"colab-df-container\">\n",
              "      <div>\n",
              "<style scoped>\n",
              "    .dataframe tbody tr th:only-of-type {\n",
              "        vertical-align: middle;\n",
              "    }\n",
              "\n",
              "    .dataframe tbody tr th {\n",
              "        vertical-align: top;\n",
              "    }\n",
              "\n",
              "    .dataframe thead th {\n",
              "        text-align: right;\n",
              "    }\n",
              "</style>\n",
              "<table border=\"1\" class=\"dataframe\">\n",
              "  <thead>\n",
              "    <tr style=\"text-align: right;\">\n",
              "      <th></th>\n",
              "      <th>id</th>\n",
              "      <th>tags</th>\n",
              "      <th>light</th>\n",
              "      <th>point</th>\n",
              "      <th>nearby</th>\n",
              "      <th>region</th>\n",
              "      <th>scheme</th>\n",
              "      <th>address</th>\n",
              "      <th>weather</th>\n",
              "      <th>category</th>\n",
              "      <th>...</th>\n",
              "      <th>severity</th>\n",
              "      <th>vehicles</th>\n",
              "      <th>dead_count</th>\n",
              "      <th>participants</th>\n",
              "      <th>injured_count</th>\n",
              "      <th>parent_region</th>\n",
              "      <th>road_conditions</th>\n",
              "      <th>participants_count</th>\n",
              "      <th>participant_categories</th>\n",
              "      <th>geometry</th>\n",
              "    </tr>\n",
              "  </thead>\n",
              "  <tbody>\n",
              "    <tr>\n",
              "      <th>0</th>\n",
              "      <td>2152021</td>\n",
              "      <td>[Дорожно-транспортные происшествия]</td>\n",
              "      <td>В темное время суток, освещение включено</td>\n",
              "      <td>{'lat': 55.870062, 'long': 37.993727}</td>\n",
              "      <td>[Жилые дома индивидуальной застройки]</td>\n",
              "      <td>Щелковский</td>\n",
              "      <td>070</td>\n",
              "      <td>д Медвежьи Озера, А-103 Щелковское шоссе Москв...</td>\n",
              "      <td>[Пасмурно]</td>\n",
              "      <td>Столкновение</td>\n",
              "      <td>...</td>\n",
              "      <td>Легкий</td>\n",
              "      <td>[ { \"year\": 2018, \"brand\": \"HYUNDAI\", \"color\":...</td>\n",
              "      <td>0</td>\n",
              "      <td>[ ]</td>\n",
              "      <td>1</td>\n",
              "      <td>Московская область</td>\n",
              "      <td>[Сухое]</td>\n",
              "      <td>4</td>\n",
              "      <td>[Все участники]</td>\n",
              "      <td>POINT (37.99373 55.87006)</td>\n",
              "    </tr>\n",
              "    <tr>\n",
              "      <th>1</th>\n",
              "      <td>2144587</td>\n",
              "      <td>[Дорожно-транспортные происшествия]</td>\n",
              "      <td>Светлое время суток</td>\n",
              "      <td>{'lat': 55.868966, 'long': 37.992911}</td>\n",
              "      <td>[Многоквартирные жилые дома, Жилые дома индиви...</td>\n",
              "      <td>Щелковский</td>\n",
              "      <td>740</td>\n",
              "      <td>д Медвежьи Озера, А-103 Щелковское шоссе Москв...</td>\n",
              "      <td>[Пасмурно]</td>\n",
              "      <td>Наезд на пешехода</td>\n",
              "      <td>...</td>\n",
              "      <td>Тяжёлый</td>\n",
              "      <td>[ { \"year\": 2006, \"brand\": \"SKODA\", \"color\": \"...</td>\n",
              "      <td>0</td>\n",
              "      <td>[ { \"role\": \"Пешеход\", \"gender\": \"Женский\", \"v...</td>\n",
              "      <td>1</td>\n",
              "      <td>Московская область</td>\n",
              "      <td>[Сухое]</td>\n",
              "      <td>2</td>\n",
              "      <td>[Пешеходы, Все участники]</td>\n",
              "      <td>POINT (37.99291 55.86897)</td>\n",
              "    </tr>\n",
              "    <tr>\n",
              "      <th>2</th>\n",
              "      <td>2160233</td>\n",
              "      <td>[Дорожно-транспортные происшествия]</td>\n",
              "      <td>В темное время суток, освещение отсутствует</td>\n",
              "      <td>{'lat': 56.071667, 'long': 38.293333}</td>\n",
              "      <td>[]</td>\n",
              "      <td>Щелковский</td>\n",
              "      <td>600</td>\n",
              "      <td>ЩЕЛКОВО-ФРЯНОВО, 31 км</td>\n",
              "      <td>[Снегопад]</td>\n",
              "      <td>Опрокидывание</td>\n",
              "      <td>...</td>\n",
              "      <td>Тяжёлый</td>\n",
              "      <td>[ { \"year\": 2011, \"brand\": \"HYUNDAI\", \"color\":...</td>\n",
              "      <td>0</td>\n",
              "      <td>[ ]</td>\n",
              "      <td>2</td>\n",
              "      <td>Московская область</td>\n",
              "      <td>[Заснеженное]</td>\n",
              "      <td>3</td>\n",
              "      <td>[Все участники]</td>\n",
              "      <td>POINT (38.29333 56.07167)</td>\n",
              "    </tr>\n",
              "    <tr>\n",
              "      <th>3</th>\n",
              "      <td>2165667</td>\n",
              "      <td>[Дорожно-транспортные происшествия]</td>\n",
              "      <td>В темное время суток, освещение включено</td>\n",
              "      <td>{'lat': 55.880992, 'long': 38.003705}</td>\n",
              "      <td>[Регулируемый перекресток]</td>\n",
              "      <td>Щелковский</td>\n",
              "      <td>300</td>\n",
              "      <td>А-103 Щелковское шоссе Москва - Щелково - авто...</td>\n",
              "      <td>[Пасмурно, Дождь]</td>\n",
              "      <td>Столкновение</td>\n",
              "      <td>...</td>\n",
              "      <td>Легкий</td>\n",
              "      <td>[ { \"year\": 2012, \"brand\": \"ВАЗ\", \"color\": \"Се...</td>\n",
              "      <td>0</td>\n",
              "      <td>[ ]</td>\n",
              "      <td>1</td>\n",
              "      <td>Московская область</td>\n",
              "      <td>[Мокрое]</td>\n",
              "      <td>2</td>\n",
              "      <td>[Все участники]</td>\n",
              "      <td>POINT (38.00370 55.88099)</td>\n",
              "    </tr>\n",
              "    <tr>\n",
              "      <th>4</th>\n",
              "      <td>2501444</td>\n",
              "      <td>[Дорожно-транспортные происшествия]</td>\n",
              "      <td>Светлое время суток</td>\n",
              "      <td>{'lat': 55.859117, 'long': 37.983395}</td>\n",
              "      <td>[Надземный пешеходный переход]</td>\n",
              "      <td>Щелковский</td>\n",
              "      <td>200</td>\n",
              "      <td>д Долгое Ледово, А-103 Щелковское шоссе Москва...</td>\n",
              "      <td>[Ясно]</td>\n",
              "      <td>Столкновение</td>\n",
              "      <td>...</td>\n",
              "      <td>Легкий</td>\n",
              "      <td>[ { \"year\": 2014, \"brand\": \"SKODA\", \"color\": \"...</td>\n",
              "      <td>0</td>\n",
              "      <td>[ ]</td>\n",
              "      <td>1</td>\n",
              "      <td>Московская область</td>\n",
              "      <td>[Пыльное]</td>\n",
              "      <td>2</td>\n",
              "      <td>[Все участники]</td>\n",
              "      <td>POINT (37.98340 55.85912)</td>\n",
              "    </tr>\n",
              "    <tr>\n",
              "      <th>...</th>\n",
              "      <td>...</td>\n",
              "      <td>...</td>\n",
              "      <td>...</td>\n",
              "      <td>...</td>\n",
              "      <td>...</td>\n",
              "      <td>...</td>\n",
              "      <td>...</td>\n",
              "      <td>...</td>\n",
              "      <td>...</td>\n",
              "      <td>...</td>\n",
              "      <td>...</td>\n",
              "      <td>...</td>\n",
              "      <td>...</td>\n",
              "      <td>...</td>\n",
              "      <td>...</td>\n",
              "      <td>...</td>\n",
              "      <td>...</td>\n",
              "      <td>...</td>\n",
              "      <td>...</td>\n",
              "      <td>...</td>\n",
              "      <td>...</td>\n",
              "    </tr>\n",
              "    <tr>\n",
              "      <th>47114</th>\n",
              "      <td>2135111</td>\n",
              "      <td>[Дорожно-транспортные происшествия]</td>\n",
              "      <td>Светлое время суток</td>\n",
              "      <td>{'lat': 55.8027, 'long': 38.0193}</td>\n",
              "      <td>[Жилые дома индивидуальной застройки, Остановк...</td>\n",
              "      <td>Балашиха</td>\n",
              "      <td>070</td>\n",
              "      <td>г Балашиха, М-7 Волга Москва - Владимир - Нижн...</td>\n",
              "      <td>[Ясно]</td>\n",
              "      <td>Столкновение</td>\n",
              "      <td>...</td>\n",
              "      <td>Легкий</td>\n",
              "      <td>[ { \"year\": 2013, \"brand\": \"ГАЗ\", \"color\": \"Бе...</td>\n",
              "      <td>0</td>\n",
              "      <td>[ ]</td>\n",
              "      <td>1</td>\n",
              "      <td>Московская область</td>\n",
              "      <td>[Сухое]</td>\n",
              "      <td>3</td>\n",
              "      <td>[Все участники]</td>\n",
              "      <td>POINT (38.01930 55.80270)</td>\n",
              "    </tr>\n",
              "    <tr>\n",
              "      <th>47115</th>\n",
              "      <td>2135154</td>\n",
              "      <td>[Дорожно-транспортные происшествия]</td>\n",
              "      <td>Светлое время суток</td>\n",
              "      <td>{'lat': 55.0689, 'long': 37.0364}</td>\n",
              "      <td>[Внутридворовая территория, Лечебные учреждения]</td>\n",
              "      <td>Балашиха</td>\n",
              "      <td>880</td>\n",
              "      <td>г Балашиха, пр-кт Ленина, 63</td>\n",
              "      <td>[Пасмурно]</td>\n",
              "      <td>Наезд на пешехода</td>\n",
              "      <td>...</td>\n",
              "      <td>Тяжёлый</td>\n",
              "      <td>[ { \"year\": 2010, \"brand\": \"NISSAN\", \"color\": ...</td>\n",
              "      <td>0</td>\n",
              "      <td>[ { \"role\": \"Пешеход\", \"gender\": \"Женский\", \"v...</td>\n",
              "      <td>1</td>\n",
              "      <td>Московская область</td>\n",
              "      <td>[Недостатки зимнего содержания, Со снежным нак...</td>\n",
              "      <td>2</td>\n",
              "      <td>[Пешеходы, Все участники]</td>\n",
              "      <td>POINT (37.03640 55.06890)</td>\n",
              "    </tr>\n",
              "    <tr>\n",
              "      <th>47116</th>\n",
              "      <td>2148619</td>\n",
              "      <td>[Дорожно-транспортные происшествия, ДТП и пост...</td>\n",
              "      <td>Светлое время суток</td>\n",
              "      <td>{'lat': 55.4729, 'long': 37.5555}</td>\n",
              "      <td>[Многоквартирные жилые дома, Остановка обществ...</td>\n",
              "      <td>Балашиха</td>\n",
              "      <td>740</td>\n",
              "      <td>г Балашиха, ул Разина, 8</td>\n",
              "      <td>[Ясно]</td>\n",
              "      <td>Наезд на велосипедиста</td>\n",
              "      <td>...</td>\n",
              "      <td>Тяжёлый</td>\n",
              "      <td>[ { \"year\": 2008, \"brand\": \"TRABANT\", \"color\":...</td>\n",
              "      <td>0</td>\n",
              "      <td>[ ]</td>\n",
              "      <td>1</td>\n",
              "      <td>Московская область</td>\n",
              "      <td>[Сухое, Неудовлетворительное состояние обочин]</td>\n",
              "      <td>2</td>\n",
              "      <td>[Велосипедисты, Дети, Все участники]</td>\n",
              "      <td>POINT (37.55550 55.47290)</td>\n",
              "    </tr>\n",
              "    <tr>\n",
              "      <th>47117</th>\n",
              "      <td>2148630</td>\n",
              "      <td>[Дорожно-транспортные происшествия]</td>\n",
              "      <td>Светлое время суток</td>\n",
              "      <td>{'lat': 55.46, 'long': 37.548}</td>\n",
              "      <td>[Жилые дома индивидуальной застройки, Нерегули...</td>\n",
              "      <td>Балашиха</td>\n",
              "      <td>500</td>\n",
              "      <td>г Балашиха, Балашиха-Салтыковка-ст. Никольская...</td>\n",
              "      <td>[Ясно]</td>\n",
              "      <td>Столкновение</td>\n",
              "      <td>...</td>\n",
              "      <td>Легкий</td>\n",
              "      <td>[ { \"year\": 2015, \"brand\": \"KIA\", \"color\": \"Бе...</td>\n",
              "      <td>0</td>\n",
              "      <td>[ ]</td>\n",
              "      <td>1</td>\n",
              "      <td>Московская область</td>\n",
              "      <td>[Сухое, Отсутствие, плохая различимость горизо...</td>\n",
              "      <td>3</td>\n",
              "      <td>[Все участники]</td>\n",
              "      <td>POINT (37.54800 55.46000)</td>\n",
              "    </tr>\n",
              "    <tr>\n",
              "      <th>47118</th>\n",
              "      <td>2148634</td>\n",
              "      <td>[Дорожно-транспортные происшествия]</td>\n",
              "      <td>В темное время суток, освещение включено</td>\n",
              "      <td>{'lat': 55.8273, 'long': 37.955}</td>\n",
              "      <td>[Многоквартирные жилые дома, Нерегулируемый пе...</td>\n",
              "      <td>Балашиха</td>\n",
              "      <td>430</td>\n",
              "      <td>г Балашиха, ул Звездная, 10</td>\n",
              "      <td>[Дождь]</td>\n",
              "      <td>Столкновение</td>\n",
              "      <td>...</td>\n",
              "      <td>Легкий</td>\n",
              "      <td>[ { \"year\": 2013, \"brand\": \"NISSAN\", \"color\": ...</td>\n",
              "      <td>0</td>\n",
              "      <td>[ ]</td>\n",
              "      <td>1</td>\n",
              "      <td>Московская область</td>\n",
              "      <td>[Мокрое, Отсутствие, плохая различимость гориз...</td>\n",
              "      <td>2</td>\n",
              "      <td>[Все участники]</td>\n",
              "      <td>POINT (37.95500 55.82730)</td>\n",
              "    </tr>\n",
              "  </tbody>\n",
              "</table>\n",
              "<p>47119 rows × 21 columns</p>\n",
              "</div>\n",
              "      <button class=\"colab-df-convert\" onclick=\"convertToInteractive('df-751f9ffa-e63a-4c19-a114-da199e8d2aca')\"\n",
              "              title=\"Convert this dataframe to an interactive table.\"\n",
              "              style=\"display:none;\">\n",
              "        \n",
              "  <svg xmlns=\"http://www.w3.org/2000/svg\" height=\"24px\"viewBox=\"0 0 24 24\"\n",
              "       width=\"24px\">\n",
              "    <path d=\"M0 0h24v24H0V0z\" fill=\"none\"/>\n",
              "    <path d=\"M18.56 5.44l.94 2.06.94-2.06 2.06-.94-2.06-.94-.94-2.06-.94 2.06-2.06.94zm-11 1L8.5 8.5l.94-2.06 2.06-.94-2.06-.94L8.5 2.5l-.94 2.06-2.06.94zm10 10l.94 2.06.94-2.06 2.06-.94-2.06-.94-.94-2.06-.94 2.06-2.06.94z\"/><path d=\"M17.41 7.96l-1.37-1.37c-.4-.4-.92-.59-1.43-.59-.52 0-1.04.2-1.43.59L10.3 9.45l-7.72 7.72c-.78.78-.78 2.05 0 2.83L4 21.41c.39.39.9.59 1.41.59.51 0 1.02-.2 1.41-.59l7.78-7.78 2.81-2.81c.8-.78.8-2.07 0-2.86zM5.41 20L4 18.59l7.72-7.72 1.47 1.35L5.41 20z\"/>\n",
              "  </svg>\n",
              "      </button>\n",
              "      \n",
              "  <style>\n",
              "    .colab-df-container {\n",
              "      display:flex;\n",
              "      flex-wrap:wrap;\n",
              "      gap: 12px;\n",
              "    }\n",
              "\n",
              "    .colab-df-convert {\n",
              "      background-color: #E8F0FE;\n",
              "      border: none;\n",
              "      border-radius: 50%;\n",
              "      cursor: pointer;\n",
              "      display: none;\n",
              "      fill: #1967D2;\n",
              "      height: 32px;\n",
              "      padding: 0 0 0 0;\n",
              "      width: 32px;\n",
              "    }\n",
              "\n",
              "    .colab-df-convert:hover {\n",
              "      background-color: #E2EBFA;\n",
              "      box-shadow: 0px 1px 2px rgba(60, 64, 67, 0.3), 0px 1px 3px 1px rgba(60, 64, 67, 0.15);\n",
              "      fill: #174EA6;\n",
              "    }\n",
              "\n",
              "    [theme=dark] .colab-df-convert {\n",
              "      background-color: #3B4455;\n",
              "      fill: #D2E3FC;\n",
              "    }\n",
              "\n",
              "    [theme=dark] .colab-df-convert:hover {\n",
              "      background-color: #434B5C;\n",
              "      box-shadow: 0px 1px 3px 1px rgba(0, 0, 0, 0.15);\n",
              "      filter: drop-shadow(0px 1px 2px rgba(0, 0, 0, 0.3));\n",
              "      fill: #FFFFFF;\n",
              "    }\n",
              "  </style>\n",
              "\n",
              "      <script>\n",
              "        const buttonEl =\n",
              "          document.querySelector('#df-751f9ffa-e63a-4c19-a114-da199e8d2aca button.colab-df-convert');\n",
              "        buttonEl.style.display =\n",
              "          google.colab.kernel.accessAllowed ? 'block' : 'none';\n",
              "\n",
              "        async function convertToInteractive(key) {\n",
              "          const element = document.querySelector('#df-751f9ffa-e63a-4c19-a114-da199e8d2aca');\n",
              "          const dataTable =\n",
              "            await google.colab.kernel.invokeFunction('convertToInteractive',\n",
              "                                                     [key], {});\n",
              "          if (!dataTable) return;\n",
              "\n",
              "          const docLinkHtml = 'Like what you see? Visit the ' +\n",
              "            '<a target=\"_blank\" href=https://colab.research.google.com/notebooks/data_table.ipynb>data table notebook</a>'\n",
              "            + ' to learn more about interactive tables.';\n",
              "          element.innerHTML = '';\n",
              "          dataTable['output_type'] = 'display_data';\n",
              "          await google.colab.output.renderOutput(dataTable, element);\n",
              "          const docLink = document.createElement('div');\n",
              "          docLink.innerHTML = docLinkHtml;\n",
              "          element.appendChild(docLink);\n",
              "        }\n",
              "      </script>\n",
              "    </div>\n",
              "  </div>\n",
              "  "
            ]
          },
          "metadata": {},
          "execution_count": 19
        }
      ],
      "source": [
        "df"
      ]
    },
    {
      "cell_type": "code",
      "execution_count": 20,
      "metadata": {
        "colab": {
          "base_uri": "https://localhost:8080/",
          "height": 447
        },
        "id": "YfxzkI8xHtPT",
        "outputId": "27b69eb2-320e-4272-9e85-61ee2ebb1ee6"
      },
      "outputs": [
        {
          "output_type": "execute_result",
          "data": {
            "text/plain": [
              "<Axes: >"
            ]
          },
          "metadata": {},
          "execution_count": 20
        },
        {
          "output_type": "display_data",
          "data": {
            "text/plain": [
              "<Figure size 640x480 with 1 Axes>"
            ],
            "image/png": "[encoded data removed]"
          },
          "metadata": {}
        }
      ],
      "source": [
        "df.plot()"
      ]
    },
    {
      "cell_type": "code",
      "execution_count": 21,
      "metadata": {
        "colab": {
          "base_uri": "https://localhost:8080/",
          "height": 847
        },
        "id": "owtLALzkHtpG",
        "outputId": "ec01b555-58ed-498a-c5a0-d7392ad12e91"
      },
      "outputs": [
        {
          "output_type": "execute_result",
          "data": {
            "text/plain": [
              "<Axes: >"
            ]
          },
          "metadata": {},
          "execution_count": 21
        },
        {
          "output_type": "display_data",
          "data": {
            "text/plain": [
              "<Figure size 1000x1000 with 1 Axes>"
            ],
            "image/png": "[encoded data removed]"
          },
          "metadata": {}
        }
      ],
      "source": [
        "df.plot(figsize=(10,10), edgecolor='purple', facecolor='green')"
      ]
    },
    {
      "cell_type": "code",
      "execution_count": 22,
      "metadata": {
        "colab": {
          "base_uri": "https://localhost:8080/"
        },
        "id": "R4V9qSz9Htr2",
        "outputId": "b4d74877-5743-41a2-b2a2-f7a403b3002e"
      },
      "outputs": [
        {
          "output_type": "execute_result",
          "data": {
            "text/plain": [
              "(47119, 21)"
            ]
          },
          "metadata": {},
          "execution_count": 22
        }
      ],
      "source": [
        "df.shape"
      ]
    },
    {
      "cell_type": "code",
      "execution_count": 23,
      "metadata": {
        "colab": {
          "base_uri": "https://localhost:8080/"
        },
        "id": "0WGBtX0THtuh",
        "outputId": "33e454e0-f241-484c-caa4-1b458453e5f5"
      },
      "outputs": [
        {
          "output_type": "execute_result",
          "data": {
            "text/plain": [
              "id                                 int64\n",
              "tags                              object\n",
              "light                             object\n",
              "point                             object\n",
              "nearby                            object\n",
              "region                            object\n",
              "scheme                            object\n",
              "address                           object\n",
              "weather                           object\n",
              "category                          object\n",
              "datetime                  datetime64[ns]\n",
              "severity                          object\n",
              "vehicles                          object\n",
              "dead_count                         int64\n",
              "participants                      object\n",
              "injured_count                      int64\n",
              "parent_region                     object\n",
              "road_conditions                   object\n",
              "participants_count                 int64\n",
              "participant_categories            object\n",
              "geometry                        geometry\n",
              "dtype: object"
            ]
          },
          "metadata": {},
          "execution_count": 23
        }
      ],
      "source": [
        "df.dtypes"
      ]
    },
    {
      "cell_type": "code",
      "execution_count": 24,
      "metadata": {
        "colab": {
          "base_uri": "https://localhost:8080/"
        },
        "id": "fvAou8dNHtxT",
        "outputId": "8251bbc1-8b66-4dca-ed62-d901c59054f2"
      },
      "outputs": [
        {
          "output_type": "execute_result",
          "data": {
            "text/plain": [
              "id                           0\n",
              "tags                         0\n",
              "light                        0\n",
              "point                        0\n",
              "nearby                       0\n",
              "region                       0\n",
              "scheme                    1397\n",
              "address                   1623\n",
              "weather                      0\n",
              "category                     0\n",
              "datetime                     0\n",
              "severity                     0\n",
              "vehicles                     0\n",
              "dead_count                   0\n",
              "participants                 0\n",
              "injured_count                0\n",
              "parent_region                0\n",
              "road_conditions              0\n",
              "participants_count           0\n",
              "participant_categories       0\n",
              "geometry                     3\n",
              "dtype: int64"
            ]
          },
          "metadata": {},
          "execution_count": 24
        }
      ],
      "source": [
        "df.isna().sum()"
      ]
    },
    {
      "cell_type": "code",
      "source": [
        "df_remade = df[['severity', 'participants_count', 'region', 'participant_categories', 'category', 'datetime', 'light', 'weather', 'road_conditions']]\n",
        "# 'dead_count', 'injured_count', 'nearby', 'address', \n",
        "# df = df[['dead_count', 'light', 'weather', 'road_conditions', 'category', 'severity', 'vehicles', 'participants']]\n",
        "df_remade"
      ],
      "metadata": {
        "colab": {
          "base_uri": "https://localhost:8080/",
          "height": 641
        },
        "id": "EVbdOCmNg0hS",
        "outputId": "2a16eccc-a781-4dab-db82-9af650a8cb87"
      },
      "execution_count": 25,
      "outputs": [
        {
          "output_type": "execute_result",
          "data": {
            "text/plain": [
              "      severity  participants_count      region  \\\n",
              "0       Легкий                   4  Щелковский   \n",
              "1      Тяжёлый                   2  Щелковский   \n",
              "2      Тяжёлый                   3  Щелковский   \n",
              "3       Легкий                   2  Щелковский   \n",
              "4       Легкий                   2  Щелковский   \n",
              "...        ...                 ...         ...   \n",
              "47114   Легкий                   3    Балашиха   \n",
              "47115  Тяжёлый                   2    Балашиха   \n",
              "47116  Тяжёлый                   2    Балашиха   \n",
              "47117   Легкий                   3    Балашиха   \n",
              "47118   Легкий                   2    Балашиха   \n",
              "\n",
              "                     participant_categories                category  \\\n",
              "0                           [Все участники]            Столкновение   \n",
              "1                 [Пешеходы, Все участники]       Наезд на пешехода   \n",
              "2                           [Все участники]           Опрокидывание   \n",
              "3                           [Все участники]            Столкновение   \n",
              "4                           [Все участники]            Столкновение   \n",
              "...                                     ...                     ...   \n",
              "47114                       [Все участники]            Столкновение   \n",
              "47115             [Пешеходы, Все участники]       Наезд на пешехода   \n",
              "47116  [Велосипедисты, Дети, Все участники]  Наезд на велосипедиста   \n",
              "47117                       [Все участники]            Столкновение   \n",
              "47118                       [Все участники]            Столкновение   \n",
              "\n",
              "                 datetime                                        light  \\\n",
              "0     2019-11-17 17:20:00     В темное время суток, освещение включено   \n",
              "1     2018-11-05 07:35:00                          Светлое время суток   \n",
              "2     2015-11-22 23:45:00  В темное время суток, освещение отсутствует   \n",
              "3     2019-10-10 00:55:00     В темное время суток, освещение включено   \n",
              "4     2020-09-25 15:15:00                          Светлое время суток   \n",
              "...                   ...                                          ...   \n",
              "47114 2016-02-17 14:30:00                          Светлое время суток   \n",
              "47115 2016-02-03 16:20:00                          Светлое время суток   \n",
              "47116 2017-04-18 17:19:00                          Светлое время суток   \n",
              "47117 2017-04-29 20:00:00                          Светлое время суток   \n",
              "47118 2017-04-26 22:40:00     В темное время суток, освещение включено   \n",
              "\n",
              "                 weather                                    road_conditions  \n",
              "0             [Пасмурно]                                            [Сухое]  \n",
              "1             [Пасмурно]                                            [Сухое]  \n",
              "2             [Снегопад]                                      [Заснеженное]  \n",
              "3      [Пасмурно, Дождь]                                           [Мокрое]  \n",
              "4                 [Ясно]                                          [Пыльное]  \n",
              "...                  ...                                                ...  \n",
              "47114             [Ясно]                                            [Сухое]  \n",
              "47115         [Пасмурно]  [Недостатки зимнего содержания, Со снежным нак...  \n",
              "47116             [Ясно]     [Сухое, Неудовлетворительное состояние обочин]  \n",
              "47117             [Ясно]  [Сухое, Отсутствие, плохая различимость горизо...  \n",
              "47118            [Дождь]  [Мокрое, Отсутствие, плохая различимость гориз...  \n",
              "\n",
              "[47119 rows x 9 columns]"
            ],
            "text/html": [
              "\n",
              "  <div id=\"df-3e778793-2996-439d-a055-1cd87b3f6b7a\">\n",
              "    <div class=\"colab-df-container\">\n",
              "      <div>\n",
              "<style scoped>\n",
              "    .dataframe tbody tr th:only-of-type {\n",
              "        vertical-align: middle;\n",
              "    }\n",
              "\n",
              "    .dataframe tbody tr th {\n",
              "        vertical-align: top;\n",
              "    }\n",
              "\n",
              "    .dataframe thead th {\n",
              "        text-align: right;\n",
              "    }\n",
              "</style>\n",
              "<table border=\"1\" class=\"dataframe\">\n",
              "  <thead>\n",
              "    <tr style=\"text-align: right;\">\n",
              "      <th></th>\n",
              "      <th>severity</th>\n",
              "      <th>participants_count</th>\n",
              "      <th>region</th>\n",
              "      <th>participant_categories</th>\n",
              "      <th>category</th>\n",
              "      <th>datetime</th>\n",
              "      <th>light</th>\n",
              "      <th>weather</th>\n",
              "      <th>road_conditions</th>\n",
              "    </tr>\n",
              "  </thead>\n",
              "  <tbody>\n",
              "    <tr>\n",
              "      <th>0</th>\n",
              "      <td>Легкий</td>\n",
              "      <td>4</td>\n",
              "      <td>Щелковский</td>\n",
              "      <td>[Все участники]</td>\n",
              "      <td>Столкновение</td>\n",
              "      <td>2019-11-17 17:20:00</td>\n",
              "      <td>В темное время суток, освещение включено</td>\n",
              "      <td>[Пасмурно]</td>\n",
              "      <td>[Сухое]</td>\n",
              "    </tr>\n",
              "    <tr>\n",
              "      <th>1</th>\n",
              "      <td>Тяжёлый</td>\n",
              "      <td>2</td>\n",
              "      <td>Щелковский</td>\n",
              "      <td>[Пешеходы, Все участники]</td>\n",
              "      <td>Наезд на пешехода</td>\n",
              "      <td>2018-11-05 07:35:00</td>\n",
              "      <td>Светлое время суток</td>\n",
              "      <td>[Пасмурно]</td>\n",
              "      <td>[Сухое]</td>\n",
              "    </tr>\n",
              "    <tr>\n",
              "      <th>2</th>\n",
              "      <td>Тяжёлый</td>\n",
              "      <td>3</td>\n",
              "      <td>Щелковский</td>\n",
              "      <td>[Все участники]</td>\n",
              "      <td>Опрокидывание</td>\n",
              "      <td>2015-11-22 23:45:00</td>\n",
              "      <td>В темное время суток, освещение отсутствует</td>\n",
              "      <td>[Снегопад]</td>\n",
              "      <td>[Заснеженное]</td>\n",
              "    </tr>\n",
              "    <tr>\n",
              "      <th>3</th>\n",
              "      <td>Легкий</td>\n",
              "      <td>2</td>\n",
              "      <td>Щелковский</td>\n",
              "      <td>[Все участники]</td>\n",
              "      <td>Столкновение</td>\n",
              "      <td>2019-10-10 00:55:00</td>\n",
              "      <td>В темное время суток, освещение включено</td>\n",
              "      <td>[Пасмурно, Дождь]</td>\n",
              "      <td>[Мокрое]</td>\n",
              "    </tr>\n",
              "    <tr>\n",
              "      <th>4</th>\n",
              "      <td>Легкий</td>\n",
              "      <td>2</td>\n",
              "      <td>Щелковский</td>\n",
              "      <td>[Все участники]</td>\n",
              "      <td>Столкновение</td>\n",
              "      <td>2020-09-25 15:15:00</td>\n",
              "      <td>Светлое время суток</td>\n",
              "      <td>[Ясно]</td>\n",
              "      <td>[Пыльное]</td>\n",
              "    </tr>\n",
              "    <tr>\n",
              "      <th>...</th>\n",
              "      <td>...</td>\n",
              "      <td>...</td>\n",
              "      <td>...</td>\n",
              "      <td>...</td>\n",
              "      <td>...</td>\n",
              "      <td>...</td>\n",
              "      <td>...</td>\n",
              "      <td>...</td>\n",
              "      <td>...</td>\n",
              "    </tr>\n",
              "    <tr>\n",
              "      <th>47114</th>\n",
              "      <td>Легкий</td>\n",
              "      <td>3</td>\n",
              "      <td>Балашиха</td>\n",
              "      <td>[Все участники]</td>\n",
              "      <td>Столкновение</td>\n",
              "      <td>2016-02-17 14:30:00</td>\n",
              "      <td>Светлое время суток</td>\n",
              "      <td>[Ясно]</td>\n",
              "      <td>[Сухое]</td>\n",
              "    </tr>\n",
              "    <tr>\n",
              "      <th>47115</th>\n",
              "      <td>Тяжёлый</td>\n",
              "      <td>2</td>\n",
              "      <td>Балашиха</td>\n",
              "      <td>[Пешеходы, Все участники]</td>\n",
              "      <td>Наезд на пешехода</td>\n",
              "      <td>2016-02-03 16:20:00</td>\n",
              "      <td>Светлое время суток</td>\n",
              "      <td>[Пасмурно]</td>\n",
              "      <td>[Недостатки зимнего содержания, Со снежным нак...</td>\n",
              "    </tr>\n",
              "    <tr>\n",
              "      <th>47116</th>\n",
              "      <td>Тяжёлый</td>\n",
              "      <td>2</td>\n",
              "      <td>Балашиха</td>\n",
              "      <td>[Велосипедисты, Дети, Все участники]</td>\n",
              "      <td>Наезд на велосипедиста</td>\n",
              "      <td>2017-04-18 17:19:00</td>\n",
              "      <td>Светлое время суток</td>\n",
              "      <td>[Ясно]</td>\n",
              "      <td>[Сухое, Неудовлетворительное состояние обочин]</td>\n",
              "    </tr>\n",
              "    <tr>\n",
              "      <th>47117</th>\n",
              "      <td>Легкий</td>\n",
              "      <td>3</td>\n",
              "      <td>Балашиха</td>\n",
              "      <td>[Все участники]</td>\n",
              "      <td>Столкновение</td>\n",
              "      <td>2017-04-29 20:00:00</td>\n",
              "      <td>Светлое время суток</td>\n",
              "      <td>[Ясно]</td>\n",
              "      <td>[Сухое, Отсутствие, плохая различимость горизо...</td>\n",
              "    </tr>\n",
              "    <tr>\n",
              "      <th>47118</th>\n",
              "      <td>Легкий</td>\n",
              "      <td>2</td>\n",
              "      <td>Балашиха</td>\n",
              "      <td>[Все участники]</td>\n",
              "      <td>Столкновение</td>\n",
              "      <td>2017-04-26 22:40:00</td>\n",
              "      <td>В темное время суток, освещение включено</td>\n",
              "      <td>[Дождь]</td>\n",
              "      <td>[Мокрое, Отсутствие, плохая различимость гориз...</td>\n",
              "    </tr>\n",
              "  </tbody>\n",
              "</table>\n",
              "<p>47119 rows × 9 columns</p>\n",
              "</div>\n",
              "      <button class=\"colab-df-convert\" onclick=\"convertToInteractive('df-3e778793-2996-439d-a055-1cd87b3f6b7a')\"\n",
              "              title=\"Convert this dataframe to an interactive table.\"\n",
              "              style=\"display:none;\">\n",
              "        \n",
              "  <svg xmlns=\"http://www.w3.org/2000/svg\" height=\"24px\"viewBox=\"0 0 24 24\"\n",
              "       width=\"24px\">\n",
              "    <path d=\"M0 0h24v24H0V0z\" fill=\"none\"/>\n",
              "    <path d=\"M18.56 5.44l.94 2.06.94-2.06 2.06-.94-2.06-.94-.94-2.06-.94 2.06-2.06.94zm-11 1L8.5 8.5l.94-2.06 2.06-.94-2.06-.94L8.5 2.5l-.94 2.06-2.06.94zm10 10l.94 2.06.94-2.06 2.06-.94-2.06-.94-.94-2.06-.94 2.06-2.06.94z\"/><path d=\"M17.41 7.96l-1.37-1.37c-.4-.4-.92-.59-1.43-.59-.52 0-1.04.2-1.43.59L10.3 9.45l-7.72 7.72c-.78.78-.78 2.05 0 2.83L4 21.41c.39.39.9.59 1.41.59.51 0 1.02-.2 1.41-.59l7.78-7.78 2.81-2.81c.8-.78.8-2.07 0-2.86zM5.41 20L4 18.59l7.72-7.72 1.47 1.35L5.41 20z\"/>\n",
              "  </svg>\n",
              "      </button>\n",
              "      \n",
              "  <style>\n",
              "    .colab-df-container {\n",
              "      display:flex;\n",
              "      flex-wrap:wrap;\n",
              "      gap: 12px;\n",
              "    }\n",
              "\n",
              "    .colab-df-convert {\n",
              "      background-color: #E8F0FE;\n",
              "      border: none;\n",
              "      border-radius: 50%;\n",
              "      cursor: pointer;\n",
              "      display: none;\n",
              "      fill: #1967D2;\n",
              "      height: 32px;\n",
              "      padding: 0 0 0 0;\n",
              "      width: 32px;\n",
              "    }\n",
              "\n",
              "    .colab-df-convert:hover {\n",
              "      background-color: #E2EBFA;\n",
              "      box-shadow: 0px 1px 2px rgba(60, 64, 67, 0.3), 0px 1px 3px 1px rgba(60, 64, 67, 0.15);\n",
              "      fill: #174EA6;\n",
              "    }\n",
              "\n",
              "    [theme=dark] .colab-df-convert {\n",
              "      background-color: #3B4455;\n",
              "      fill: #D2E3FC;\n",
              "    }\n",
              "\n",
              "    [theme=dark] .colab-df-convert:hover {\n",
              "      background-color: #434B5C;\n",
              "      box-shadow: 0px 1px 3px 1px rgba(0, 0, 0, 0.15);\n",
              "      filter: drop-shadow(0px 1px 2px rgba(0, 0, 0, 0.3));\n",
              "      fill: #FFFFFF;\n",
              "    }\n",
              "  </style>\n",
              "\n",
              "      <script>\n",
              "        const buttonEl =\n",
              "          document.querySelector('#df-3e778793-2996-439d-a055-1cd87b3f6b7a button.colab-df-convert');\n",
              "        buttonEl.style.display =\n",
              "          google.colab.kernel.accessAllowed ? 'block' : 'none';\n",
              "\n",
              "        async function convertToInteractive(key) {\n",
              "          const element = document.querySelector('#df-3e778793-2996-439d-a055-1cd87b3f6b7a');\n",
              "          const dataTable =\n",
              "            await google.colab.kernel.invokeFunction('convertToInteractive',\n",
              "                                                     [key], {});\n",
              "          if (!dataTable) return;\n",
              "\n",
              "          const docLinkHtml = 'Like what you see? Visit the ' +\n",
              "            '<a target=\"_blank\" href=https://colab.research.google.com/notebooks/data_table.ipynb>data table notebook</a>'\n",
              "            + ' to learn more about interactive tables.';\n",
              "          element.innerHTML = '';\n",
              "          dataTable['output_type'] = 'display_data';\n",
              "          await google.colab.output.renderOutput(dataTable, element);\n",
              "          const docLink = document.createElement('div');\n",
              "          docLink.innerHTML = docLinkHtml;\n",
              "          element.appendChild(docLink);\n",
              "        }\n",
              "      </script>\n",
              "    </div>\n",
              "  </div>\n",
              "  "
            ]
          },
          "metadata": {},
          "execution_count": 25
        }
      ]
    },
    {
      "cell_type": "code",
      "source": [
        "df_transform = df_remade.copy()"
      ],
      "metadata": {
        "id": "Nl6i6Jzeg61y"
      },
      "execution_count": 26,
      "outputs": []
    },
    {
      "cell_type": "markdown",
      "source": [
        "# severity               —————\n",
        "# participants_count     —————\n",
        "# dead_count             —————\n",
        "# injured_count          —————\n",
        "# region                 + заменить на значения ✔\n",
        "# participant_categories преобразовать 0 и 1 ✔\n",
        "# category               —————  ✔\n",
        "# datetime               преобразовать разделив промежутки на час ✔\n",
        "# light                  преобразовать ✔\n",
        "# weather                преобразовать ✔\n",
        "# road_conditions        преобразовать ✔"
      ],
      "metadata": {
        "id": "HxjCo1pzhCiQ"
      }
    },
    {
      "cell_type": "code",
      "source": [
        "# Заменяем категориальные значения на числовые\n",
        "light_dict = {\n",
        "    'Светлое время суток': 0,\n",
        "    'В темное время суток, освещение включено': 1,\n",
        "    'В темное время суток, освещение отсутствует': 2,\n",
        "    'В темное время суток, освещение не включено': 3,\n",
        "    'Сумерки': 4\n",
        "}\n",
        "\n",
        "severity_dict = {\n",
        "    'Легкий': 0,\n",
        "    'Тяжёлый': 0,\n",
        "    'С погибшими': 1\n",
        "}\n",
        "\n",
        "df_transform['light'] = df_transform['light'].replace(light_dict)\n",
        "df_transform['severity'] = df_transform['severity'].replace(severity_dict)"
      ],
      "metadata": {
        "id": "lWuBR84Yg7Co"
      },
      "execution_count": 27,
      "outputs": []
    },
    {
      "cell_type": "code",
      "source": [
        "import geopandas as gpd\n",
        "\n",
        "import re\n",
        "import nltk\n",
        "import requests\n",
        "import numpy as np\n",
        "import pandas as pd\n",
        "import matplotlib.pyplot as plt\n",
        "from time import sleep\n",
        "from random import randint\n",
        "\n",
        "from bs4 import BeautifulSoup\n",
        "from wordcloud import WordCloud\n",
        "from sklearn.model_selection import train_test_split\n",
        "from sklearn.manifold import TSNE\n",
        "from nltk.corpus import stopwords\n",
        "from sklearn.cluster import KMeans\n",
        "from nltk.probability import FreqDist\n",
        "from sklearn.decomposition import PCA\n",
        "from nltk.tokenize import word_tokenize\n",
        "from sklearn.feature_extraction.text import TfidfVectorizer, CountVectorizer\n"
      ],
      "metadata": {
        "id": "V-43_9rfhTiZ"
      },
      "execution_count": 28,
      "outputs": []
    },
    {
      "cell_type": "code",
      "source": [
        "# participant_categories\n",
        "# Преобразование колонки participant_categories с использованием метода get_dummies\n",
        "participant_categories_dummies = pd.get_dummies(df_transform.participant_categories.apply(pd.Series).stack())\n",
        "participant_categories_dummies.index = participant_categories_dummies.index.droplevel(-1)\n",
        "participant_categories_dummies = participant_categories_dummies.groupby(participant_categories_dummies.index).sum()\n",
        "\n",
        "# Объединение исходного датафрейма с преобразованными колонками\n",
        "df_transform = pd.concat([df_transform, participant_categories_dummies], axis=1)\n",
        "\n",
        "# Удаление старой колонки participant_categories\n",
        "df_transform = df_transform.drop('participant_categories', axis=1)"
      ],
      "metadata": {
        "id": "RgpkovEtg7GK"
      },
      "execution_count": 29,
      "outputs": []
    },
    {
      "cell_type": "code",
      "source": [
        "# weather\n",
        "# Преобразование колонки weather с использованием метода get_dummies\n",
        "weather_dummies = pd.get_dummies(df_transform.weather.apply(pd.Series).stack())\n",
        "weather_dummies.index = weather_dummies.index.droplevel(-1)\n",
        "weather_dummies = weather_dummies.groupby(weather_dummies.index).sum()\n",
        "\n",
        "# Объединение исходного датафрейма с преобразованными колонками\n",
        "df_transform = pd.concat([df_transform, weather_dummies], axis=1)\n",
        "\n",
        "# Удаление старой колонки weather\n",
        "df_transform = df_transform.drop('weather', axis=1)"
      ],
      "metadata": {
        "id": "UBtWEjLSg7Kn"
      },
      "execution_count": 30,
      "outputs": []
    },
    {
      "cell_type": "code",
      "source": [
        "# road_conditions\n",
        "# Преобразование колонки road_conditions с использованием метода get_dummies\n",
        "road_conditions_dummies = pd.get_dummies(df_transform.road_conditions.apply(pd.Series).stack())\n",
        "road_conditions_dummies.index = road_conditions_dummies.index.droplevel(-1)\n",
        "road_conditions_dummies = road_conditions_dummies.groupby(road_conditions_dummies.index).sum()\n",
        "\n",
        "# Объединение исходного датафрейма с преобразованными колонками\n",
        "df_transform = pd.concat([df_transform, road_conditions_dummies], axis=1)\n",
        "\n",
        "# Удаление старой колонки road_conditions\n",
        "df_transform = df_transform.drop('road_conditions', axis=1)"
      ],
      "metadata": {
        "id": "0O0jKlzRg7N9"
      },
      "execution_count": 31,
      "outputs": []
    },
    {
      "cell_type": "code",
      "source": [
        "# Разделение датафрейма на обучающую и тестовую выборки (80% обучающая, 20% тестовая)\n",
        "train_df, test_df = train_test_split(df_transform, test_size=0.2, random_state=42)\n",
        "\n",
        "print(f\"Размер обучающей выборки: {len(train_df)}\")\n",
        "print(f\"Размер тестовой выборки: {len(test_df)}\")"
      ],
      "metadata": {
        "colab": {
          "base_uri": "https://localhost:8080/"
        },
        "id": "mHpHDxzbg7Qu",
        "outputId": "3afe7fb9-d9b8-4e76-dc50-ca1a76990791"
      },
      "execution_count": 32,
      "outputs": [
        {
          "output_type": "stream",
          "name": "stdout",
          "text": [
            "Размер обучающей выборки: 37695\n",
            "Размер тестовой выборки: 9424\n"
          ]
        }
      ]
    },
    {
      "cell_type": "code",
      "source": [
        "train_df"
      ],
      "metadata": {
        "colab": {
          "base_uri": "https://localhost:8080/",
          "height": 973
        },
        "id": "-nyCd8-eg7T3",
        "outputId": "22bfee98-a05a-4312-843e-954585b83a79"
      },
      "execution_count": 33,
      "outputs": [
        {
          "output_type": "execute_result",
          "data": {
            "text/plain": [
              "       severity  participants_count        region              category  \\\n",
              "19140         0                   4     Раменский          Столкновение   \n",
              "40054         0                   2     Зарайский          Столкновение   \n",
              "18166         0                   1       Рузский         Опрокидывание   \n",
              "11206         0                   3     Чеховский          Столкновение   \n",
              "44572         0                   4   Дмитровский          Столкновение   \n",
              "...         ...                 ...           ...                   ...   \n",
              "11284         0                   1     Чеховский  Наезд на препятствие   \n",
              "44732         0                   4   Дмитровский          Столкновение   \n",
              "38158         0                   2     Каширский          Столкновение   \n",
              "860           0                   2    Щелковский  Наезд на препятствие   \n",
              "15795         0                   2  Серпуховский        Съезд с дороги   \n",
              "\n",
              "                 datetime  light  Велосипедисты  Все участники  Дети  \\\n",
              "19140 2016-10-04 02:05:00      1              0              1     0   \n",
              "40054 2016-08-24 12:20:00      0              0              1     0   \n",
              "18166 2017-07-11 03:40:00      0              0              1     0   \n",
              "11206 2022-02-22 10:00:00      0              0              1     0   \n",
              "44572 2017-09-25 23:55:00      2              0              1     0   \n",
              "...                   ...    ...            ...            ...   ...   \n",
              "11284 2022-04-19 14:40:00      0              0              1     0   \n",
              "44732 2017-04-23 18:50:00      0              0              1     1   \n",
              "38158 2017-03-02 07:03:00      0              0              1     0   \n",
              "860   2018-05-27 17:30:00      0              0              1     0   \n",
              "15795 2020-08-29 23:45:00      2              0              1     0   \n",
              "\n",
              "       Мотоциклисты  ...  \\\n",
              "19140             0  ...   \n",
              "40054             0  ...   \n",
              "18166             1  ...   \n",
              "11206             0  ...   \n",
              "44572             0  ...   \n",
              "...             ...  ...   \n",
              "11284             0  ...   \n",
              "44732             0  ...   \n",
              "38158             0  ...   \n",
              "860               0  ...   \n",
              "15795             0  ...   \n",
              "\n",
              "       Отсутствие элементов обустройства остановочного пункта общественного пассажирского транспорта  \\\n",
              "19140                                                  0                                               \n",
              "40054                                                  0                                               \n",
              "18166                                                  0                                               \n",
              "11206                                                  0                                               \n",
              "44572                                                  0                                               \n",
              "...                                                  ...                                               \n",
              "11284                                                  0                                               \n",
              "44732                                                  0                                               \n",
              "38158                                                  0                                               \n",
              "860                                                    0                                               \n",
              "15795                                                  0                                               \n",
              "\n",
              "       Отсутствие, плохая различимость вертикальной разметки  \\\n",
              "19140                                                  0       \n",
              "40054                                                  0       \n",
              "18166                                                  0       \n",
              "11206                                                  0       \n",
              "44572                                                  0       \n",
              "...                                                  ...       \n",
              "11284                                                  0       \n",
              "44732                                                  0       \n",
              "38158                                                  0       \n",
              "860                                                    0       \n",
              "15795                                                  0       \n",
              "\n",
              "       Отсутствие, плохая различимость горизонтальной разметки проезжей части  \\\n",
              "19140                                                  0                        \n",
              "40054                                                  0                        \n",
              "18166                                                  0                        \n",
              "11206                                                  0                        \n",
              "44572                                                  0                        \n",
              "...                                                  ...                        \n",
              "11284                                                  0                        \n",
              "44732                                                  0                        \n",
              "38158                                                  0                        \n",
              "860                                                    0                        \n",
              "15795                                                  1                        \n",
              "\n",
              "       Плохая видимость световозвращателей, размещенных на дорожных ограждениях  \\\n",
              "19140                                                  0                          \n",
              "40054                                                  0                          \n",
              "18166                                                  0                          \n",
              "11206                                                  0                          \n",
              "44572                                                  0                          \n",
              "...                                                  ...                          \n",
              "11284                                                  0                          \n",
              "44732                                                  0                          \n",
              "38158                                                  0                          \n",
              "860                                                    0                          \n",
              "15795                                                  0                          \n",
              "\n",
              "       Плохая видимость светофора  Пыльное  \\\n",
              "19140                           0        0   \n",
              "40054                           0        0   \n",
              "18166                           0        0   \n",
              "11206                           0        0   \n",
              "44572                           0        0   \n",
              "...                           ...      ...   \n",
              "11284                           0        0   \n",
              "44732                           0        0   \n",
              "38158                           0        0   \n",
              "860                             0        0   \n",
              "15795                           0        0   \n",
              "\n",
              "       Свежеуложенная поверхностная обработка  Со снежным накатом  \\\n",
              "19140                                       0                   0   \n",
              "40054                                       0                   0   \n",
              "18166                                       0                   0   \n",
              "11206                                       0                   0   \n",
              "44572                                       0                   0   \n",
              "...                                       ...                 ...   \n",
              "11284                                       0                   0   \n",
              "44732                                       0                   0   \n",
              "38158                                       0                   0   \n",
              "860                                         0                   0   \n",
              "15795                                       0                   0   \n",
              "\n",
              "       Сужение проезжей части, наличие препятствий, затрудняющих движение транспортных средств  \\\n",
              "19140                                                  0                                         \n",
              "40054                                                  0                                         \n",
              "18166                                                  0                                         \n",
              "11206                                                  0                                         \n",
              "44572                                                  0                                         \n",
              "...                                                  ...                                         \n",
              "11284                                                  0                                         \n",
              "44732                                                  0                                         \n",
              "38158                                                  0                                         \n",
              "860                                                    0                                         \n",
              "15795                                                  0                                         \n",
              "\n",
              "       Сухое  \n",
              "19140      1  \n",
              "40054      1  \n",
              "18166      1  \n",
              "11206      0  \n",
              "44572      1  \n",
              "...      ...  \n",
              "11284      1  \n",
              "44732      0  \n",
              "38158      0  \n",
              "860        1  \n",
              "15795      1  \n",
              "\n",
              "[37695 rows x 62 columns]"
            ],
            "text/html": [
              "\n",
              "  <div id=\"df-9bf87e66-9b56-41ca-b009-9dabfd831eee\">\n",
              "    <div class=\"colab-df-container\">\n",
              "      <div>\n",
              "<style scoped>\n",
              "    .dataframe tbody tr th:only-of-type {\n",
              "        vertical-align: middle;\n",
              "    }\n",
              "\n",
              "    .dataframe tbody tr th {\n",
              "        vertical-align: top;\n",
              "    }\n",
              "\n",
              "    .dataframe thead th {\n",
              "        text-align: right;\n",
              "    }\n",
              "</style>\n",
              "<table border=\"1\" class=\"dataframe\">\n",
              "  <thead>\n",
              "    <tr style=\"text-align: right;\">\n",
              "      <th></th>\n",
              "      <th>severity</th>\n",
              "      <th>participants_count</th>\n",
              "      <th>region</th>\n",
              "      <th>category</th>\n",
              "      <th>datetime</th>\n",
              "      <th>light</th>\n",
              "      <th>Велосипедисты</th>\n",
              "      <th>Все участники</th>\n",
              "      <th>Дети</th>\n",
              "      <th>Мотоциклисты</th>\n",
              "      <th>...</th>\n",
              "      <th>Отсутствие элементов обустройства остановочного пункта общественного пассажирского транспорта</th>\n",
              "      <th>Отсутствие, плохая различимость вертикальной разметки</th>\n",
              "      <th>Отсутствие, плохая различимость горизонтальной разметки проезжей части</th>\n",
              "      <th>Плохая видимость световозвращателей, размещенных на дорожных ограждениях</th>\n",
              "      <th>Плохая видимость светофора</th>\n",
              "      <th>Пыльное</th>\n",
              "      <th>Свежеуложенная поверхностная обработка</th>\n",
              "      <th>Со снежным накатом</th>\n",
              "      <th>Сужение проезжей части, наличие препятствий, затрудняющих движение транспортных средств</th>\n",
              "      <th>Сухое</th>\n",
              "    </tr>\n",
              "  </thead>\n",
              "  <tbody>\n",
              "    <tr>\n",
              "      <th>19140</th>\n",
              "      <td>0</td>\n",
              "      <td>4</td>\n",
              "      <td>Раменский</td>\n",
              "      <td>Столкновение</td>\n",
              "      <td>2016-10-04 02:05:00</td>\n",
              "      <td>1</td>\n",
              "      <td>0</td>\n",
              "      <td>1</td>\n",
              "      <td>0</td>\n",
              "      <td>0</td>\n",
              "      <td>...</td>\n",
              "      <td>0</td>\n",
              "      <td>0</td>\n",
              "      <td>0</td>\n",
              "      <td>0</td>\n",
              "      <td>0</td>\n",
              "      <td>0</td>\n",
              "      <td>0</td>\n",
              "      <td>0</td>\n",
              "      <td>0</td>\n",
              "      <td>1</td>\n",
              "    </tr>\n",
              "    <tr>\n",
              "      <th>40054</th>\n",
              "      <td>0</td>\n",
              "      <td>2</td>\n",
              "      <td>Зарайский</td>\n",
              "      <td>Столкновение</td>\n",
              "      <td>2016-08-24 12:20:00</td>\n",
              "      <td>0</td>\n",
              "      <td>0</td>\n",
              "      <td>1</td>\n",
              "      <td>0</td>\n",
              "      <td>0</td>\n",
              "      <td>...</td>\n",
              "      <td>0</td>\n",
              "      <td>0</td>\n",
              "      <td>0</td>\n",
              "      <td>0</td>\n",
              "      <td>0</td>\n",
              "      <td>0</td>\n",
              "      <td>0</td>\n",
              "      <td>0</td>\n",
              "      <td>0</td>\n",
              "      <td>1</td>\n",
              "    </tr>\n",
              "    <tr>\n",
              "      <th>18166</th>\n",
              "      <td>0</td>\n",
              "      <td>1</td>\n",
              "      <td>Рузский</td>\n",
              "      <td>Опрокидывание</td>\n",
              "      <td>2017-07-11 03:40:00</td>\n",
              "      <td>0</td>\n",
              "      <td>0</td>\n",
              "      <td>1</td>\n",
              "      <td>0</td>\n",
              "      <td>1</td>\n",
              "      <td>...</td>\n",
              "      <td>0</td>\n",
              "      <td>0</td>\n",
              "      <td>0</td>\n",
              "      <td>0</td>\n",
              "      <td>0</td>\n",
              "      <td>0</td>\n",
              "      <td>0</td>\n",
              "      <td>0</td>\n",
              "      <td>0</td>\n",
              "      <td>1</td>\n",
              "    </tr>\n",
              "    <tr>\n",
              "      <th>11206</th>\n",
              "      <td>0</td>\n",
              "      <td>3</td>\n",
              "      <td>Чеховский</td>\n",
              "      <td>Столкновение</td>\n",
              "      <td>2022-02-22 10:00:00</td>\n",
              "      <td>0</td>\n",
              "      <td>0</td>\n",
              "      <td>1</td>\n",
              "      <td>0</td>\n",
              "      <td>0</td>\n",
              "      <td>...</td>\n",
              "      <td>0</td>\n",
              "      <td>0</td>\n",
              "      <td>0</td>\n",
              "      <td>0</td>\n",
              "      <td>0</td>\n",
              "      <td>0</td>\n",
              "      <td>0</td>\n",
              "      <td>0</td>\n",
              "      <td>0</td>\n",
              "      <td>0</td>\n",
              "    </tr>\n",
              "    <tr>\n",
              "      <th>44572</th>\n",
              "      <td>0</td>\n",
              "      <td>4</td>\n",
              "      <td>Дмитровский</td>\n",
              "      <td>Столкновение</td>\n",
              "      <td>2017-09-25 23:55:00</td>\n",
              "      <td>2</td>\n",
              "      <td>0</td>\n",
              "      <td>1</td>\n",
              "      <td>0</td>\n",
              "      <td>0</td>\n",
              "      <td>...</td>\n",
              "      <td>0</td>\n",
              "      <td>0</td>\n",
              "      <td>0</td>\n",
              "      <td>0</td>\n",
              "      <td>0</td>\n",
              "      <td>0</td>\n",
              "      <td>0</td>\n",
              "      <td>0</td>\n",
              "      <td>0</td>\n",
              "      <td>1</td>\n",
              "    </tr>\n",
              "    <tr>\n",
              "      <th>...</th>\n",
              "      <td>...</td>\n",
              "      <td>...</td>\n",
              "      <td>...</td>\n",
              "      <td>...</td>\n",
              "      <td>...</td>\n",
              "      <td>...</td>\n",
              "      <td>...</td>\n",
              "      <td>...</td>\n",
              "      <td>...</td>\n",
              "      <td>...</td>\n",
              "      <td>...</td>\n",
              "      <td>...</td>\n",
              "      <td>...</td>\n",
              "      <td>...</td>\n",
              "      <td>...</td>\n",
              "      <td>...</td>\n",
              "      <td>...</td>\n",
              "      <td>...</td>\n",
              "      <td>...</td>\n",
              "      <td>...</td>\n",
              "      <td>...</td>\n",
              "    </tr>\n",
              "    <tr>\n",
              "      <th>11284</th>\n",
              "      <td>0</td>\n",
              "      <td>1</td>\n",
              "      <td>Чеховский</td>\n",
              "      <td>Наезд на препятствие</td>\n",
              "      <td>2022-04-19 14:40:00</td>\n",
              "      <td>0</td>\n",
              "      <td>0</td>\n",
              "      <td>1</td>\n",
              "      <td>0</td>\n",
              "      <td>0</td>\n",
              "      <td>...</td>\n",
              "      <td>0</td>\n",
              "      <td>0</td>\n",
              "      <td>0</td>\n",
              "      <td>0</td>\n",
              "      <td>0</td>\n",
              "      <td>0</td>\n",
              "      <td>0</td>\n",
              "      <td>0</td>\n",
              "      <td>0</td>\n",
              "      <td>1</td>\n",
              "    </tr>\n",
              "    <tr>\n",
              "      <th>44732</th>\n",
              "      <td>0</td>\n",
              "      <td>4</td>\n",
              "      <td>Дмитровский</td>\n",
              "      <td>Столкновение</td>\n",
              "      <td>2017-04-23 18:50:00</td>\n",
              "      <td>0</td>\n",
              "      <td>0</td>\n",
              "      <td>1</td>\n",
              "      <td>1</td>\n",
              "      <td>0</td>\n",
              "      <td>...</td>\n",
              "      <td>0</td>\n",
              "      <td>0</td>\n",
              "      <td>0</td>\n",
              "      <td>0</td>\n",
              "      <td>0</td>\n",
              "      <td>0</td>\n",
              "      <td>0</td>\n",
              "      <td>0</td>\n",
              "      <td>0</td>\n",
              "      <td>0</td>\n",
              "    </tr>\n",
              "    <tr>\n",
              "      <th>38158</th>\n",
              "      <td>0</td>\n",
              "      <td>2</td>\n",
              "      <td>Каширский</td>\n",
              "      <td>Столкновение</td>\n",
              "      <td>2017-03-02 07:03:00</td>\n",
              "      <td>0</td>\n",
              "      <td>0</td>\n",
              "      <td>1</td>\n",
              "      <td>0</td>\n",
              "      <td>0</td>\n",
              "      <td>...</td>\n",
              "      <td>0</td>\n",
              "      <td>0</td>\n",
              "      <td>0</td>\n",
              "      <td>0</td>\n",
              "      <td>0</td>\n",
              "      <td>0</td>\n",
              "      <td>0</td>\n",
              "      <td>0</td>\n",
              "      <td>0</td>\n",
              "      <td>0</td>\n",
              "    </tr>\n",
              "    <tr>\n",
              "      <th>860</th>\n",
              "      <td>0</td>\n",
              "      <td>2</td>\n",
              "      <td>Щелковский</td>\n",
              "      <td>Наезд на препятствие</td>\n",
              "      <td>2018-05-27 17:30:00</td>\n",
              "      <td>0</td>\n",
              "      <td>0</td>\n",
              "      <td>1</td>\n",
              "      <td>0</td>\n",
              "      <td>0</td>\n",
              "      <td>...</td>\n",
              "      <td>0</td>\n",
              "      <td>0</td>\n",
              "      <td>0</td>\n",
              "      <td>0</td>\n",
              "      <td>0</td>\n",
              "      <td>0</td>\n",
              "      <td>0</td>\n",
              "      <td>0</td>\n",
              "      <td>0</td>\n",
              "      <td>1</td>\n",
              "    </tr>\n",
              "    <tr>\n",
              "      <th>15795</th>\n",
              "      <td>0</td>\n",
              "      <td>2</td>\n",
              "      <td>Серпуховский</td>\n",
              "      <td>Съезд с дороги</td>\n",
              "      <td>2020-08-29 23:45:00</td>\n",
              "      <td>2</td>\n",
              "      <td>0</td>\n",
              "      <td>1</td>\n",
              "      <td>0</td>\n",
              "      <td>0</td>\n",
              "      <td>...</td>\n",
              "      <td>0</td>\n",
              "      <td>0</td>\n",
              "      <td>1</td>\n",
              "      <td>0</td>\n",
              "      <td>0</td>\n",
              "      <td>0</td>\n",
              "      <td>0</td>\n",
              "      <td>0</td>\n",
              "      <td>0</td>\n",
              "      <td>1</td>\n",
              "    </tr>\n",
              "  </tbody>\n",
              "</table>\n",
              "<p>37695 rows × 62 columns</p>\n",
              "</div>\n",
              "      <button class=\"colab-df-convert\" onclick=\"convertToInteractive('df-9bf87e66-9b56-41ca-b009-9dabfd831eee')\"\n",
              "              title=\"Convert this dataframe to an interactive table.\"\n",
              "              style=\"display:none;\">\n",
              "        \n",
              "  <svg xmlns=\"http://www.w3.org/2000/svg\" height=\"24px\"viewBox=\"0 0 24 24\"\n",
              "       width=\"24px\">\n",
              "    <path d=\"M0 0h24v24H0V0z\" fill=\"none\"/>\n",
              "    <path d=\"M18.56 5.44l.94 2.06.94-2.06 2.06-.94-2.06-.94-.94-2.06-.94 2.06-2.06.94zm-11 1L8.5 8.5l.94-2.06 2.06-.94-2.06-.94L8.5 2.5l-.94 2.06-2.06.94zm10 10l.94 2.06.94-2.06 2.06-.94-2.06-.94-.94-2.06-.94 2.06-2.06.94z\"/><path d=\"M17.41 7.96l-1.37-1.37c-.4-.4-.92-.59-1.43-.59-.52 0-1.04.2-1.43.59L10.3 9.45l-7.72 7.72c-.78.78-.78 2.05 0 2.83L4 21.41c.39.39.9.59 1.41.59.51 0 1.02-.2 1.41-.59l7.78-7.78 2.81-2.81c.8-.78.8-2.07 0-2.86zM5.41 20L4 18.59l7.72-7.72 1.47 1.35L5.41 20z\"/>\n",
              "  </svg>\n",
              "      </button>\n",
              "      \n",
              "  <style>\n",
              "    .colab-df-container {\n",
              "      display:flex;\n",
              "      flex-wrap:wrap;\n",
              "      gap: 12px;\n",
              "    }\n",
              "\n",
              "    .colab-df-convert {\n",
              "      background-color: #E8F0FE;\n",
              "      border: none;\n",
              "      border-radius: 50%;\n",
              "      cursor: pointer;\n",
              "      display: none;\n",
              "      fill: #1967D2;\n",
              "      height: 32px;\n",
              "      padding: 0 0 0 0;\n",
              "      width: 32px;\n",
              "    }\n",
              "\n",
              "    .colab-df-convert:hover {\n",
              "      background-color: #E2EBFA;\n",
              "      box-shadow: 0px 1px 2px rgba(60, 64, 67, 0.3), 0px 1px 3px 1px rgba(60, 64, 67, 0.15);\n",
              "      fill: #174EA6;\n",
              "    }\n",
              "\n",
              "    [theme=dark] .colab-df-convert {\n",
              "      background-color: #3B4455;\n",
              "      fill: #D2E3FC;\n",
              "    }\n",
              "\n",
              "    [theme=dark] .colab-df-convert:hover {\n",
              "      background-color: #434B5C;\n",
              "      box-shadow: 0px 1px 3px 1px rgba(0, 0, 0, 0.15);\n",
              "      filter: drop-shadow(0px 1px 2px rgba(0, 0, 0, 0.3));\n",
              "      fill: #FFFFFF;\n",
              "    }\n",
              "  </style>\n",
              "\n",
              "      <script>\n",
              "        const buttonEl =\n",
              "          document.querySelector('#df-9bf87e66-9b56-41ca-b009-9dabfd831eee button.colab-df-convert');\n",
              "        buttonEl.style.display =\n",
              "          google.colab.kernel.accessAllowed ? 'block' : 'none';\n",
              "\n",
              "        async function convertToInteractive(key) {\n",
              "          const element = document.querySelector('#df-9bf87e66-9b56-41ca-b009-9dabfd831eee');\n",
              "          const dataTable =\n",
              "            await google.colab.kernel.invokeFunction('convertToInteractive',\n",
              "                                                     [key], {});\n",
              "          if (!dataTable) return;\n",
              "\n",
              "          const docLinkHtml = 'Like what you see? Visit the ' +\n",
              "            '<a target=\"_blank\" href=https://colab.research.google.com/notebooks/data_table.ipynb>data table notebook</a>'\n",
              "            + ' to learn more about interactive tables.';\n",
              "          element.innerHTML = '';\n",
              "          dataTable['output_type'] = 'display_data';\n",
              "          await google.colab.output.renderOutput(dataTable, element);\n",
              "          const docLink = document.createElement('div');\n",
              "          docLink.innerHTML = docLinkHtml;\n",
              "          element.appendChild(docLink);\n",
              "        }\n",
              "      </script>\n",
              "    </div>\n",
              "  </div>\n",
              "  "
            ]
          },
          "metadata": {},
          "execution_count": 33
        }
      ]
    },
    {
      "cell_type": "markdown",
      "source": [
        "Изменение остальных столбцов"
      ],
      "metadata": {
        "id": "WUYc35HTimUX"
      }
    },
    {
      "cell_type": "code",
      "source": [
        "# region\n",
        "# Группировка данных по регионам и подсчет количества значений \"С погибшими\" в колонке severity\n",
        "grouped_dead = train_df[train_df['severity'] == 1].groupby('region').size()\n",
        "grouped_injured = 0 # train_df[train_df['severity'] == 2].groupby('region').size()\n",
        "\n",
        "# Группировка данных по регионам и подсчет общего количества записей\n",
        "total_records = train_df.groupby('region').size()\n",
        "\n",
        "# Подсчет доли \"С погибшими\" для каждого региона\n",
        "result = (grouped_dead + 0.5 * grouped_injured) / total_records\n",
        "result = result.sort_values(ascending=False)\n",
        "\n",
        "print(result)\n",
        "average = result.mean()\n",
        "print('\\naverage = ' + str(average))\n",
        "\n",
        "region_dict = result.to_dict()\n",
        "\n",
        "# Замена значений\n",
        "train_df['region'] = train_df['region'].replace(region_dict)\n",
        "def replace_with_average(value):\n",
        "    if value not in region_dict:\n",
        "        return average\n",
        "    else:\n",
        "        return region_dict[value]\n",
        "test_df['region'] = test_df['region'].apply(replace_with_average)"
      ],
      "metadata": {
        "colab": {
          "base_uri": "https://localhost:8080/"
        },
        "id": "Agw_sefhg7W2",
        "outputId": "abc2a65b-b379-47c7-beb6-424884dd1984"
      },
      "execution_count": 34,
      "outputs": [
        {
          "output_type": "stream",
          "name": "stdout",
          "text": [
            "region\n",
            "Воскресенский      0.308824\n",
            "Волоколамский      0.273038\n",
            "Можайский          0.268657\n",
            "Коломенский        0.260355\n",
            "Подольск           0.250000\n",
            "                     ...   \n",
            "Железнодорожный    0.050773\n",
            "Власиха            0.043011\n",
            "Дзержинский        0.037313\n",
            "Котельники         0.032680\n",
            "Реутов             0.028369\n",
            "Length: 65, dtype: float64\n",
            "\n",
            "average = 0.14231566105348953\n"
          ]
        }
      ]
    },
    {
      "cell_type": "code",
      "source": [
        "# category\n",
        "# Группировка данных по регионам и подсчет количества значений \"С погибшими\" в колонке severity\n",
        "grouped_dead = train_df[train_df['severity'] == 1].groupby('category').size()\n",
        "grouped_injured = 0 # train_df[train_df['severity'] == 2].groupby('category').size()\n",
        "\n",
        "# Группировка данных по регионам и подсчет общего количества записей\n",
        "total_records = train_df.groupby('category').size()\n",
        "\n",
        "# Подсчет доли \"С погибшими\" для каждого региона\n",
        "result = (grouped_dead + 0.5 * grouped_injured) / total_records\n",
        "result = result.sort_values(ascending=False)\n",
        "\n",
        "print(result)\n",
        "average = result.mean()\n",
        "print('\\naverage = ' + str(average))\n",
        "\n",
        "category_dict = result.to_dict()\n",
        "\n",
        "# Замена значений\n",
        "train_df['category'] = train_df['category'].replace(category_dict)\n",
        "train_df['category'] = train_df['category'].fillna(average)\n",
        "def replace_with_average(value):\n",
        "    if value not in category_dict:\n",
        "        return average\n",
        "    else:\n",
        "        return category_dict[value]\n",
        "test_df['category'] = test_df['category'].apply(replace_with_average)\n",
        "test_df['category'] = test_df['category'].fillna(average)"
      ],
      "metadata": {
        "colab": {
          "base_uri": "https://localhost:8080/"
        },
        "id": "f2oepuJcioRD",
        "outputId": "dc2691ee-dc99-4d31-e273-f52adeb3b853"
      },
      "execution_count": 35,
      "outputs": [
        {
          "output_type": "stream",
          "name": "stdout",
          "text": [
            "category\n",
            "Наезд на лицо, не являющееся участником дорожного движения, осуществляющее какую-либо другую деятельность    0.428571\n",
            "Падение груза                                                                                                0.363636\n",
            "Наезд на лицо, не являющееся участником дорожного движения, осуществляющее производство работ                0.250000\n",
            "Съезд с дороги                                                                                               0.198836\n",
            "Наезд на пешехода                                                                                            0.178475\n",
            "Наезд на стоящее ТС                                                                                          0.177905\n",
            "Наезд на препятствие                                                                                         0.173810\n",
            "Наезд на лицо, не являющееся участником дорожного движения, осуществляющее несение службы                    0.166667\n",
            "Опрокидывание                                                                                                0.165101\n",
            "Наезд на животное                                                                                            0.157895\n",
            "Иной вид ДТП                                                                                                 0.133803\n",
            "Наезд на велосипедиста                                                                                       0.128638\n",
            "Наезд на внезапно возникшее препятствие                                                                      0.125000\n",
            "Столкновение                                                                                                 0.118257\n",
            "Отбрасывание предмета                                                                                        0.050000\n",
            "Падение пассажира                                                                                            0.022444\n",
            "dtype: float64\n",
            "\n",
            "average = 0.1774398691333119\n"
          ]
        }
      ]
    },
    {
      "cell_type": "code",
      "source": [
        "# datetime\n",
        "train_df['hour'] = pd.to_datetime(train_df['datetime']).dt.hour\n",
        "train_df['month'] = pd.to_datetime(train_df['datetime']).dt.month\n",
        "train_df = train_df.drop('datetime', axis=1)\n",
        "test_df['hour'] = pd.to_datetime(test_df['datetime']).dt.hour\n",
        "test_df['month'] = pd.to_datetime(test_df['datetime']).dt.month\n",
        "test_df = test_df.drop('datetime', axis=1)"
      ],
      "metadata": {
        "id": "ygIDRA-VioVJ"
      },
      "execution_count": 36,
      "outputs": []
    },
    {
      "cell_type": "code",
      "source": [
        "# hour\n",
        "# Группировка данных по часам и подсчет количества значений \"С погибшими\" в колонке severity\n",
        "grouped_dead = train_df[train_df['severity'] == 1].groupby('hour').size()\n",
        "grouped_injured = 0 # train_df[train_df['severity'] == 2].groupby('hour').size()\n",
        "\n",
        "# Группировка данных по часам и подсчет общего количества записей\n",
        "total_records = train_df.groupby('hour').size()\n",
        "\n",
        "# Подсчет доли \"С погибшими\" для каждого часа\n",
        "result = (grouped_dead + 0.5 * grouped_injured) / total_records\n",
        "result = result.sort_values(ascending=False)\n",
        "\n",
        "print(result)\n",
        "average = result.mean()\n",
        "print('\\naverage = ' + str(average))\n",
        "\n",
        "hour_dict = result.to_dict()\n",
        "\n",
        "# Замена значений\n",
        "train_df['hour'] = train_df['hour'].replace(hour_dict)\n",
        "def replace_with_average(value):\n",
        "    if value not in hour_dict:\n",
        "        return average\n",
        "    else:\n",
        "        return hour_dict[value]\n",
        "test_df['hour'] = test_df['hour'].apply(replace_with_average)"
      ],
      "metadata": {
        "colab": {
          "base_uri": "https://localhost:8080/"
        },
        "id": "BSsGnCAbiocI",
        "outputId": "2c51b18b-5d3f-48fa-a273-a962f4449b14"
      },
      "execution_count": 37,
      "outputs": [
        {
          "output_type": "stream",
          "name": "stdout",
          "text": [
            "hour\n",
            "2     0.259813\n",
            "0     0.243827\n",
            "3     0.237077\n",
            "5     0.228663\n",
            "4     0.228516\n",
            "1     0.227151\n",
            "23    0.210565\n",
            "6     0.202970\n",
            "21    0.188801\n",
            "22    0.185905\n",
            "20    0.168916\n",
            "7     0.141620\n",
            "18    0.140517\n",
            "19    0.139037\n",
            "17    0.125677\n",
            "10    0.123217\n",
            "15    0.119266\n",
            "14    0.117983\n",
            "16    0.116402\n",
            "9     0.112748\n",
            "11    0.107423\n",
            "13    0.103132\n",
            "12    0.102925\n",
            "8     0.099835\n",
            "dtype: float64\n",
            "\n",
            "average = 0.1638327870669491\n"
          ]
        }
      ]
    },
    {
      "cell_type": "code",
      "source": [
        "# month\n",
        "# Группировка данных по регионам и подсчет количества значений \"С погибшими\" в колонке severity\n",
        "grouped_dead = train_df[train_df['severity'] == 1].groupby('month').size()\n",
        "grouped_injured = 0 # train_df[train_df['severity'] == 2].groupby('month').size()\n",
        "\n",
        "# Группировка данных по регионам и подсчет общего количества записей\n",
        "total_records = train_df.groupby('month').size()\n",
        "\n",
        "# Подсчет доли \"С погибшими\" для каждого региона\n",
        "result = (grouped_dead + 0.5 * grouped_injured) / total_records\n",
        "result = result.sort_values(ascending=False)\n",
        "\n",
        "print(result)\n",
        "average = result.mean()\n",
        "print('\\naverage = ' + str(average))\n",
        "\n",
        "month_dict = result.to_dict()\n",
        "\n",
        "# Замена значений\n",
        "train_df['month'] = train_df['month'].replace(month_dict)\n",
        "def replace_with_average(value):\n",
        "    if value not in month_dict:\n",
        "        return average\n",
        "    else:\n",
        "        return month_dict[value]\n",
        "test_df['month'] = test_df['month'].apply(replace_with_average)"
      ],
      "metadata": {
        "colab": {
          "base_uri": "https://localhost:8080/"
        },
        "id": "WFXl_qUjiofm",
        "outputId": "870d1410-3c53-40bd-d4af-e9e67eef76c0"
      },
      "execution_count": 38,
      "outputs": [
        {
          "output_type": "stream",
          "name": "stdout",
          "text": [
            "month\n",
            "10    0.163480\n",
            "11    0.159937\n",
            "8     0.157691\n",
            "12    0.152056\n",
            "7     0.150256\n",
            "9     0.149250\n",
            "6     0.145190\n",
            "1     0.138237\n",
            "3     0.136110\n",
            "5     0.135101\n",
            "4     0.133826\n",
            "2     0.129903\n",
            "dtype: float64\n",
            "\n",
            "average = 0.1459197141455348\n"
          ]
        }
      ]
    },
    {
      "cell_type": "markdown",
      "source": [
        "Обучаем модели"
      ],
      "metadata": {
        "id": "buL3Xk0ejRqx"
      }
    },
    {
      "cell_type": "code",
      "source": [
        "import pandas as pd\n",
        "import numpy as np\n",
        "from sklearn.metrics import accuracy_score, classification_report, confusion_matrix\n",
        "from sklearn.preprocessing import StandardScaler"
      ],
      "metadata": {
        "id": "kLnUEmoiipBB"
      },
      "execution_count": 39,
      "outputs": []
    },
    {
      "cell_type": "code",
      "source": [
        "train_df.head()"
      ],
      "metadata": {
        "colab": {
          "base_uri": "https://localhost:8080/",
          "height": 438
        },
        "id": "LZSAgvKqipFn",
        "outputId": "9b8ada0d-4e0c-45e7-bc5b-0699aede2fc8"
      },
      "execution_count": 40,
      "outputs": [
        {
          "output_type": "execute_result",
          "data": {
            "text/plain": [
              "       severity  participants_count    region  category  light  Велосипедисты  \\\n",
              "19140         0                   4  0.172185  0.118257      1              0   \n",
              "40054         0                   2  0.116402  0.118257      0              0   \n",
              "18166         0                   1  0.179331  0.165101      0              0   \n",
              "11206         0                   3  0.176018  0.118257      0              0   \n",
              "44572         0                   4  0.201288  0.118257      2              0   \n",
              "\n",
              "       Все участники  Дети  Мотоциклисты  Общ. транспорт  ...  \\\n",
              "19140              1     0             0               0  ...   \n",
              "40054              1     0             0               0  ...   \n",
              "18166              1     0             1               0  ...   \n",
              "11206              1     0             0               0  ...   \n",
              "44572              1     0             0               0  ...   \n",
              "\n",
              "       Отсутствие, плохая различимость горизонтальной разметки проезжей части  \\\n",
              "19140                                                  0                        \n",
              "40054                                                  0                        \n",
              "18166                                                  0                        \n",
              "11206                                                  0                        \n",
              "44572                                                  0                        \n",
              "\n",
              "       Плохая видимость световозвращателей, размещенных на дорожных ограждениях  \\\n",
              "19140                                                  0                          \n",
              "40054                                                  0                          \n",
              "18166                                                  0                          \n",
              "11206                                                  0                          \n",
              "44572                                                  0                          \n",
              "\n",
              "       Плохая видимость светофора  Пыльное  \\\n",
              "19140                           0        0   \n",
              "40054                           0        0   \n",
              "18166                           0        0   \n",
              "11206                           0        0   \n",
              "44572                           0        0   \n",
              "\n",
              "       Свежеуложенная поверхностная обработка  Со снежным накатом  \\\n",
              "19140                                       0                   0   \n",
              "40054                                       0                   0   \n",
              "18166                                       0                   0   \n",
              "11206                                       0                   0   \n",
              "44572                                       0                   0   \n",
              "\n",
              "       Сужение проезжей части, наличие препятствий, затрудняющих движение транспортных средств  \\\n",
              "19140                                                  0                                         \n",
              "40054                                                  0                                         \n",
              "18166                                                  0                                         \n",
              "11206                                                  0                                         \n",
              "44572                                                  0                                         \n",
              "\n",
              "       Сухое      hour     month  \n",
              "19140      1  0.259813  0.163480  \n",
              "40054      1  0.102925  0.157691  \n",
              "18166      1  0.237077  0.150256  \n",
              "11206      0  0.123217  0.129903  \n",
              "44572      1  0.210565  0.149250  \n",
              "\n",
              "[5 rows x 63 columns]"
            ],
            "text/html": [
              "\n",
              "  <div id=\"df-6363f310-aff8-4fb0-bf33-c19717565859\">\n",
              "    <div class=\"colab-df-container\">\n",
              "      <div>\n",
              "<style scoped>\n",
              "    .dataframe tbody tr th:only-of-type {\n",
              "        vertical-align: middle;\n",
              "    }\n",
              "\n",
              "    .dataframe tbody tr th {\n",
              "        vertical-align: top;\n",
              "    }\n",
              "\n",
              "    .dataframe thead th {\n",
              "        text-align: right;\n",
              "    }\n",
              "</style>\n",
              "<table border=\"1\" class=\"dataframe\">\n",
              "  <thead>\n",
              "    <tr style=\"text-align: right;\">\n",
              "      <th></th>\n",
              "      <th>severity</th>\n",
              "      <th>participants_count</th>\n",
              "      <th>region</th>\n",
              "      <th>category</th>\n",
              "      <th>light</th>\n",
              "      <th>Велосипедисты</th>\n",
              "      <th>Все участники</th>\n",
              "      <th>Дети</th>\n",
              "      <th>Мотоциклисты</th>\n",
              "      <th>Общ. транспорт</th>\n",
              "      <th>...</th>\n",
              "      <th>Отсутствие, плохая различимость горизонтальной разметки проезжей части</th>\n",
              "      <th>Плохая видимость световозвращателей, размещенных на дорожных ограждениях</th>\n",
              "      <th>Плохая видимость светофора</th>\n",
              "      <th>Пыльное</th>\n",
              "      <th>Свежеуложенная поверхностная обработка</th>\n",
              "      <th>Со снежным накатом</th>\n",
              "      <th>Сужение проезжей части, наличие препятствий, затрудняющих движение транспортных средств</th>\n",
              "      <th>Сухое</th>\n",
              "      <th>hour</th>\n",
              "      <th>month</th>\n",
              "    </tr>\n",
              "  </thead>\n",
              "  <tbody>\n",
              "    <tr>\n",
              "      <th>19140</th>\n",
              "      <td>0</td>\n",
              "      <td>4</td>\n",
              "      <td>0.172185</td>\n",
              "      <td>0.118257</td>\n",
              "      <td>1</td>\n",
              "      <td>0</td>\n",
              "      <td>1</td>\n",
              "      <td>0</td>\n",
              "      <td>0</td>\n",
              "      <td>0</td>\n",
              "      <td>...</td>\n",
              "      <td>0</td>\n",
              "      <td>0</td>\n",
              "      <td>0</td>\n",
              "      <td>0</td>\n",
              "      <td>0</td>\n",
              "      <td>0</td>\n",
              "      <td>0</td>\n",
              "      <td>1</td>\n",
              "      <td>0.259813</td>\n",
              "      <td>0.163480</td>\n",
              "    </tr>\n",
              "    <tr>\n",
              "      <th>40054</th>\n",
              "      <td>0</td>\n",
              "      <td>2</td>\n",
              "      <td>0.116402</td>\n",
              "      <td>0.118257</td>\n",
              "      <td>0</td>\n",
              "      <td>0</td>\n",
              "      <td>1</td>\n",
              "      <td>0</td>\n",
              "      <td>0</td>\n",
              "      <td>0</td>\n",
              "      <td>...</td>\n",
              "      <td>0</td>\n",
              "      <td>0</td>\n",
              "      <td>0</td>\n",
              "      <td>0</td>\n",
              "      <td>0</td>\n",
              "      <td>0</td>\n",
              "      <td>0</td>\n",
              "      <td>1</td>\n",
              "      <td>0.102925</td>\n",
              "      <td>0.157691</td>\n",
              "    </tr>\n",
              "    <tr>\n",
              "      <th>18166</th>\n",
              "      <td>0</td>\n",
              "      <td>1</td>\n",
              "      <td>0.179331</td>\n",
              "      <td>0.165101</td>\n",
              "      <td>0</td>\n",
              "      <td>0</td>\n",
              "      <td>1</td>\n",
              "      <td>0</td>\n",
              "      <td>1</td>\n",
              "      <td>0</td>\n",
              "      <td>...</td>\n",
              "      <td>0</td>\n",
              "      <td>0</td>\n",
              "      <td>0</td>\n",
              "      <td>0</td>\n",
              "      <td>0</td>\n",
              "      <td>0</td>\n",
              "      <td>0</td>\n",
              "      <td>1</td>\n",
              "      <td>0.237077</td>\n",
              "      <td>0.150256</td>\n",
              "    </tr>\n",
              "    <tr>\n",
              "      <th>11206</th>\n",
              "      <td>0</td>\n",
              "      <td>3</td>\n",
              "      <td>0.176018</td>\n",
              "      <td>0.118257</td>\n",
              "      <td>0</td>\n",
              "      <td>0</td>\n",
              "      <td>1</td>\n",
              "      <td>0</td>\n",
              "      <td>0</td>\n",
              "      <td>0</td>\n",
              "      <td>...</td>\n",
              "      <td>0</td>\n",
              "      <td>0</td>\n",
              "      <td>0</td>\n",
              "      <td>0</td>\n",
              "      <td>0</td>\n",
              "      <td>0</td>\n",
              "      <td>0</td>\n",
              "      <td>0</td>\n",
              "      <td>0.123217</td>\n",
              "      <td>0.129903</td>\n",
              "    </tr>\n",
              "    <tr>\n",
              "      <th>44572</th>\n",
              "      <td>0</td>\n",
              "      <td>4</td>\n",
              "      <td>0.201288</td>\n",
              "      <td>0.118257</td>\n",
              "      <td>2</td>\n",
              "      <td>0</td>\n",
              "      <td>1</td>\n",
              "      <td>0</td>\n",
              "      <td>0</td>\n",
              "      <td>0</td>\n",
              "      <td>...</td>\n",
              "      <td>0</td>\n",
              "      <td>0</td>\n",
              "      <td>0</td>\n",
              "      <td>0</td>\n",
              "      <td>0</td>\n",
              "      <td>0</td>\n",
              "      <td>0</td>\n",
              "      <td>1</td>\n",
              "      <td>0.210565</td>\n",
              "      <td>0.149250</td>\n",
              "    </tr>\n",
              "  </tbody>\n",
              "</table>\n",
              "<p>5 rows × 63 columns</p>\n",
              "</div>\n",
              "      <button class=\"colab-df-convert\" onclick=\"convertToInteractive('df-6363f310-aff8-4fb0-bf33-c19717565859')\"\n",
              "              title=\"Convert this dataframe to an interactive table.\"\n",
              "              style=\"display:none;\">\n",
              "        \n",
              "  <svg xmlns=\"http://www.w3.org/2000/svg\" height=\"24px\"viewBox=\"0 0 24 24\"\n",
              "       width=\"24px\">\n",
              "    <path d=\"M0 0h24v24H0V0z\" fill=\"none\"/>\n",
              "    <path d=\"M18.56 5.44l.94 2.06.94-2.06 2.06-.94-2.06-.94-.94-2.06-.94 2.06-2.06.94zm-11 1L8.5 8.5l.94-2.06 2.06-.94-2.06-.94L8.5 2.5l-.94 2.06-2.06.94zm10 10l.94 2.06.94-2.06 2.06-.94-2.06-.94-.94-2.06-.94 2.06-2.06.94z\"/><path d=\"M17.41 7.96l-1.37-1.37c-.4-.4-.92-.59-1.43-.59-.52 0-1.04.2-1.43.59L10.3 9.45l-7.72 7.72c-.78.78-.78 2.05 0 2.83L4 21.41c.39.39.9.59 1.41.59.51 0 1.02-.2 1.41-.59l7.78-7.78 2.81-2.81c.8-.78.8-2.07 0-2.86zM5.41 20L4 18.59l7.72-7.72 1.47 1.35L5.41 20z\"/>\n",
              "  </svg>\n",
              "      </button>\n",
              "      \n",
              "  <style>\n",
              "    .colab-df-container {\n",
              "      display:flex;\n",
              "      flex-wrap:wrap;\n",
              "      gap: 12px;\n",
              "    }\n",
              "\n",
              "    .colab-df-convert {\n",
              "      background-color: #E8F0FE;\n",
              "      border: none;\n",
              "      border-radius: 50%;\n",
              "      cursor: pointer;\n",
              "      display: none;\n",
              "      fill: #1967D2;\n",
              "      height: 32px;\n",
              "      padding: 0 0 0 0;\n",
              "      width: 32px;\n",
              "    }\n",
              "\n",
              "    .colab-df-convert:hover {\n",
              "      background-color: #E2EBFA;\n",
              "      box-shadow: 0px 1px 2px rgba(60, 64, 67, 0.3), 0px 1px 3px 1px rgba(60, 64, 67, 0.15);\n",
              "      fill: #174EA6;\n",
              "    }\n",
              "\n",
              "    [theme=dark] .colab-df-convert {\n",
              "      background-color: #3B4455;\n",
              "      fill: #D2E3FC;\n",
              "    }\n",
              "\n",
              "    [theme=dark] .colab-df-convert:hover {\n",
              "      background-color: #434B5C;\n",
              "      box-shadow: 0px 1px 3px 1px rgba(0, 0, 0, 0.15);\n",
              "      filter: drop-shadow(0px 1px 2px rgba(0, 0, 0, 0.3));\n",
              "      fill: #FFFFFF;\n",
              "    }\n",
              "  </style>\n",
              "\n",
              "      <script>\n",
              "        const buttonEl =\n",
              "          document.querySelector('#df-6363f310-aff8-4fb0-bf33-c19717565859 button.colab-df-convert');\n",
              "        buttonEl.style.display =\n",
              "          google.colab.kernel.accessAllowed ? 'block' : 'none';\n",
              "\n",
              "        async function convertToInteractive(key) {\n",
              "          const element = document.querySelector('#df-6363f310-aff8-4fb0-bf33-c19717565859');\n",
              "          const dataTable =\n",
              "            await google.colab.kernel.invokeFunction('convertToInteractive',\n",
              "                                                     [key], {});\n",
              "          if (!dataTable) return;\n",
              "\n",
              "          const docLinkHtml = 'Like what you see? Visit the ' +\n",
              "            '<a target=\"_blank\" href=https://colab.research.google.com/notebooks/data_table.ipynb>data table notebook</a>'\n",
              "            + ' to learn more about interactive tables.';\n",
              "          element.innerHTML = '';\n",
              "          dataTable['output_type'] = 'display_data';\n",
              "          await google.colab.output.renderOutput(dataTable, element);\n",
              "          const docLink = document.createElement('div');\n",
              "          docLink.innerHTML = docLinkHtml;\n",
              "          element.appendChild(docLink);\n",
              "        }\n",
              "      </script>\n",
              "    </div>\n",
              "  </div>\n",
              "  "
            ]
          },
          "metadata": {},
          "execution_count": 40
        }
      ]
    },
    {
      "cell_type": "code",
      "source": [
        "test_df.head()"
      ],
      "metadata": {
        "colab": {
          "base_uri": "https://localhost:8080/",
          "height": 438
        },
        "id": "rzrZsnsHjY1S",
        "outputId": "174db8e9-dd0c-43ed-8533-3b2538bba9b5"
      },
      "execution_count": null,
      "outputs": [
        {
          "output_type": "execute_result",
          "data": {
            "text/plain": [
              "       severity  participants_count    region  category  light  Велосипедисты  \\\n",
              "14731         0                   2  0.167939  0.178475      3              0   \n",
              "3732          0                   3  0.150333  0.118257      3              0   \n",
              "39713         0                   3  0.154122  0.118257      0              0   \n",
              "20635         1                   3  0.172185  0.118257      0              0   \n",
              "9911          0                   1  0.056180  0.165101      4              0   \n",
              "\n",
              "       Все участники  Дети  Мотоциклисты  Общ. транспорт  ...  \\\n",
              "14731              1     0             0               0  ...   \n",
              "3732               1     0             0               0  ...   \n",
              "39713              1     0             0               0  ...   \n",
              "20635              1     0             0               0  ...   \n",
              "9911               1     0             0               0  ...   \n",
              "\n",
              "       Отсутствие, плохая различимость горизонтальной разметки проезжей части  \\\n",
              "14731                                                  0                        \n",
              "3732                                                   1                        \n",
              "39713                                                  0                        \n",
              "20635                                                  1                        \n",
              "9911                                                   0                        \n",
              "\n",
              "       Плохая видимость световозвращателей, размещенных на дорожных ограждениях  \\\n",
              "14731                                                  0                          \n",
              "3732                                                   0                          \n",
              "39713                                                  0                          \n",
              "20635                                                  0                          \n",
              "9911                                                   0                          \n",
              "\n",
              "       Плохая видимость светофора  Пыльное  \\\n",
              "14731                           0        0   \n",
              "3732                            0        0   \n",
              "39713                           0        0   \n",
              "20635                           0        0   \n",
              "9911                            0        0   \n",
              "\n",
              "       Свежеуложенная поверхностная обработка  Со снежным накатом  \\\n",
              "14731                                       0                   0   \n",
              "3732                                        0                   0   \n",
              "39713                                       0                   0   \n",
              "20635                                       0                   0   \n",
              "9911                                        0                   0   \n",
              "\n",
              "       Сужение проезжей части, наличие препятствий, затрудняющих движение транспортных средств  \\\n",
              "14731                                                  0                                         \n",
              "3732                                                   0                                         \n",
              "39713                                                  0                                         \n",
              "20635                                                  0                                         \n",
              "9911                                                   0                                         \n",
              "\n",
              "       Сухое      hour     month  \n",
              "14731      0  0.185905  0.150256  \n",
              "3732       0  0.237077  0.159937  \n",
              "39713      0  0.119266  0.150256  \n",
              "20635      0  0.107423  0.152056  \n",
              "9911       0  0.168916  0.133826  \n",
              "\n",
              "[5 rows x 63 columns]"
            ],
            "text/html": [
              "\n",
              "  <div id=\"df-a578df67-3150-4ac4-b869-c74592284ee8\">\n",
              "    <div class=\"colab-df-container\">\n",
              "      <div>\n",
              "<style scoped>\n",
              "    .dataframe tbody tr th:only-of-type {\n",
              "        vertical-align: middle;\n",
              "    }\n",
              "\n",
              "    .dataframe tbody tr th {\n",
              "        vertical-align: top;\n",
              "    }\n",
              "\n",
              "    .dataframe thead th {\n",
              "        text-align: right;\n",
              "    }\n",
              "</style>\n",
              "<table border=\"1\" class=\"dataframe\">\n",
              "  <thead>\n",
              "    <tr style=\"text-align: right;\">\n",
              "      <th></th>\n",
              "      <th>severity</th>\n",
              "      <th>participants_count</th>\n",
              "      <th>region</th>\n",
              "      <th>category</th>\n",
              "      <th>light</th>\n",
              "      <th>Велосипедисты</th>\n",
              "      <th>Все участники</th>\n",
              "      <th>Дети</th>\n",
              "      <th>Мотоциклисты</th>\n",
              "      <th>Общ. транспорт</th>\n",
              "      <th>...</th>\n",
              "      <th>Отсутствие, плохая различимость горизонтальной разметки проезжей части</th>\n",
              "      <th>Плохая видимость световозвращателей, размещенных на дорожных ограждениях</th>\n",
              "      <th>Плохая видимость светофора</th>\n",
              "      <th>Пыльное</th>\n",
              "      <th>Свежеуложенная поверхностная обработка</th>\n",
              "      <th>Со снежным накатом</th>\n",
              "      <th>Сужение проезжей части, наличие препятствий, затрудняющих движение транспортных средств</th>\n",
              "      <th>Сухое</th>\n",
              "      <th>hour</th>\n",
              "      <th>month</th>\n",
              "    </tr>\n",
              "  </thead>\n",
              "  <tbody>\n",
              "    <tr>\n",
              "      <th>14731</th>\n",
              "      <td>0</td>\n",
              "      <td>2</td>\n",
              "      <td>0.167939</td>\n",
              "      <td>0.178475</td>\n",
              "      <td>3</td>\n",
              "      <td>0</td>\n",
              "      <td>1</td>\n",
              "      <td>0</td>\n",
              "      <td>0</td>\n",
              "      <td>0</td>\n",
              "      <td>...</td>\n",
              "      <td>0</td>\n",
              "      <td>0</td>\n",
              "      <td>0</td>\n",
              "      <td>0</td>\n",
              "      <td>0</td>\n",
              "      <td>0</td>\n",
              "      <td>0</td>\n",
              "      <td>0</td>\n",
              "      <td>0.185905</td>\n",
              "      <td>0.150256</td>\n",
              "    </tr>\n",
              "    <tr>\n",
              "      <th>3732</th>\n",
              "      <td>0</td>\n",
              "      <td>3</td>\n",
              "      <td>0.150333</td>\n",
              "      <td>0.118257</td>\n",
              "      <td>3</td>\n",
              "      <td>0</td>\n",
              "      <td>1</td>\n",
              "      <td>0</td>\n",
              "      <td>0</td>\n",
              "      <td>0</td>\n",
              "      <td>...</td>\n",
              "      <td>1</td>\n",
              "      <td>0</td>\n",
              "      <td>0</td>\n",
              "      <td>0</td>\n",
              "      <td>0</td>\n",
              "      <td>0</td>\n",
              "      <td>0</td>\n",
              "      <td>0</td>\n",
              "      <td>0.237077</td>\n",
              "      <td>0.159937</td>\n",
              "    </tr>\n",
              "    <tr>\n",
              "      <th>39713</th>\n",
              "      <td>0</td>\n",
              "      <td>3</td>\n",
              "      <td>0.154122</td>\n",
              "      <td>0.118257</td>\n",
              "      <td>0</td>\n",
              "      <td>0</td>\n",
              "      <td>1</td>\n",
              "      <td>0</td>\n",
              "      <td>0</td>\n",
              "      <td>0</td>\n",
              "      <td>...</td>\n",
              "      <td>0</td>\n",
              "      <td>0</td>\n",
              "      <td>0</td>\n",
              "      <td>0</td>\n",
              "      <td>0</td>\n",
              "      <td>0</td>\n",
              "      <td>0</td>\n",
              "      <td>0</td>\n",
              "      <td>0.119266</td>\n",
              "      <td>0.150256</td>\n",
              "    </tr>\n",
              "    <tr>\n",
              "      <th>20635</th>\n",
              "      <td>1</td>\n",
              "      <td>3</td>\n",
              "      <td>0.172185</td>\n",
              "      <td>0.118257</td>\n",
              "      <td>0</td>\n",
              "      <td>0</td>\n",
              "      <td>1</td>\n",
              "      <td>0</td>\n",
              "      <td>0</td>\n",
              "      <td>0</td>\n",
              "      <td>...</td>\n",
              "      <td>1</td>\n",
              "      <td>0</td>\n",
              "      <td>0</td>\n",
              "      <td>0</td>\n",
              "      <td>0</td>\n",
              "      <td>0</td>\n",
              "      <td>0</td>\n",
              "      <td>0</td>\n",
              "      <td>0.107423</td>\n",
              "      <td>0.152056</td>\n",
              "    </tr>\n",
              "    <tr>\n",
              "      <th>9911</th>\n",
              "      <td>0</td>\n",
              "      <td>1</td>\n",
              "      <td>0.056180</td>\n",
              "      <td>0.165101</td>\n",
              "      <td>4</td>\n",
              "      <td>0</td>\n",
              "      <td>1</td>\n",
              "      <td>0</td>\n",
              "      <td>0</td>\n",
              "      <td>0</td>\n",
              "      <td>...</td>\n",
              "      <td>0</td>\n",
              "      <td>0</td>\n",
              "      <td>0</td>\n",
              "      <td>0</td>\n",
              "      <td>0</td>\n",
              "      <td>0</td>\n",
              "      <td>0</td>\n",
              "      <td>0</td>\n",
              "      <td>0.168916</td>\n",
              "      <td>0.133826</td>\n",
              "    </tr>\n",
              "  </tbody>\n",
              "</table>\n",
              "<p>5 rows × 63 columns</p>\n",
              "</div>\n",
              "      <button class=\"colab-df-convert\" onclick=\"convertToInteractive('df-a578df67-3150-4ac4-b869-c74592284ee8')\"\n",
              "              title=\"Convert this dataframe to an interactive table.\"\n",
              "              style=\"display:none;\">\n",
              "        \n",
              "  <svg xmlns=\"http://www.w3.org/2000/svg\" height=\"24px\"viewBox=\"0 0 24 24\"\n",
              "       width=\"24px\">\n",
              "    <path d=\"M0 0h24v24H0V0z\" fill=\"none\"/>\n",
              "    <path d=\"M18.56 5.44l.94 2.06.94-2.06 2.06-.94-2.06-.94-.94-2.06-.94 2.06-2.06.94zm-11 1L8.5 8.5l.94-2.06 2.06-.94-2.06-.94L8.5 2.5l-.94 2.06-2.06.94zm10 10l.94 2.06.94-2.06 2.06-.94-2.06-.94-.94-2.06-.94 2.06-2.06.94z\"/><path d=\"M17.41 7.96l-1.37-1.37c-.4-.4-.92-.59-1.43-.59-.52 0-1.04.2-1.43.59L10.3 9.45l-7.72 7.72c-.78.78-.78 2.05 0 2.83L4 21.41c.39.39.9.59 1.41.59.51 0 1.02-.2 1.41-.59l7.78-7.78 2.81-2.81c.8-.78.8-2.07 0-2.86zM5.41 20L4 18.59l7.72-7.72 1.47 1.35L5.41 20z\"/>\n",
              "  </svg>\n",
              "      </button>\n",
              "      \n",
              "  <style>\n",
              "    .colab-df-container {\n",
              "      display:flex;\n",
              "      flex-wrap:wrap;\n",
              "      gap: 12px;\n",
              "    }\n",
              "\n",
              "    .colab-df-convert {\n",
              "      background-color: #E8F0FE;\n",
              "      border: none;\n",
              "      border-radius: 50%;\n",
              "      cursor: pointer;\n",
              "      display: none;\n",
              "      fill: #1967D2;\n",
              "      height: 32px;\n",
              "      padding: 0 0 0 0;\n",
              "      width: 32px;\n",
              "    }\n",
              "\n",
              "    .colab-df-convert:hover {\n",
              "      background-color: #E2EBFA;\n",
              "      box-shadow: 0px 1px 2px rgba(60, 64, 67, 0.3), 0px 1px 3px 1px rgba(60, 64, 67, 0.15);\n",
              "      fill: #174EA6;\n",
              "    }\n",
              "\n",
              "    [theme=dark] .colab-df-convert {\n",
              "      background-color: #3B4455;\n",
              "      fill: #D2E3FC;\n",
              "    }\n",
              "\n",
              "    [theme=dark] .colab-df-convert:hover {\n",
              "      background-color: #434B5C;\n",
              "      box-shadow: 0px 1px 3px 1px rgba(0, 0, 0, 0.15);\n",
              "      filter: drop-shadow(0px 1px 2px rgba(0, 0, 0, 0.3));\n",
              "      fill: #FFFFFF;\n",
              "    }\n",
              "  </style>\n",
              "\n",
              "      <script>\n",
              "        const buttonEl =\n",
              "          document.querySelector('#df-a578df67-3150-4ac4-b869-c74592284ee8 button.colab-df-convert');\n",
              "        buttonEl.style.display =\n",
              "          google.colab.kernel.accessAllowed ? 'block' : 'none';\n",
              "\n",
              "        async function convertToInteractive(key) {\n",
              "          const element = document.querySelector('#df-a578df67-3150-4ac4-b869-c74592284ee8');\n",
              "          const dataTable =\n",
              "            await google.colab.kernel.invokeFunction('convertToInteractive',\n",
              "                                                     [key], {});\n",
              "          if (!dataTable) return;\n",
              "\n",
              "          const docLinkHtml = 'Like what you see? Visit the ' +\n",
              "            '<a target=\"_blank\" href=https://colab.research.google.com/notebooks/data_table.ipynb>data table notebook</a>'\n",
              "            + ' to learn more about interactive tables.';\n",
              "          element.innerHTML = '';\n",
              "          dataTable['output_type'] = 'display_data';\n",
              "          await google.colab.output.renderOutput(dataTable, element);\n",
              "          const docLink = document.createElement('div');\n",
              "          docLink.innerHTML = docLinkHtml;\n",
              "          element.appendChild(docLink);\n",
              "        }\n",
              "      </script>\n",
              "    </div>\n",
              "  </div>\n",
              "  "
            ]
          },
          "metadata": {},
          "execution_count": 43
        }
      ]
    },
    {
      "cell_type": "code",
      "source": [
        "# Разделение выборки на признаки и целевую переменную\n",
        "X_train = train_df.drop('severity', axis=1)\n",
        "y_train = train_df['severity']\n",
        "X_test = test_df.drop('severity', axis=1)\n",
        "y_test = test_df['severity']"
      ],
      "metadata": {
        "id": "EA6rhgUUjY8q"
      },
      "execution_count": 41,
      "outputs": []
    },
    {
      "cell_type": "markdown",
      "source": [
        "Целевая переменная severity = 0, если есть раненые, 1 - с погибшими"
      ],
      "metadata": {
        "id": "A2-cXs4Rj5-7"
      }
    },
    {
      "cell_type": "code",
      "source": [
        "scaler = StandardScaler()\n",
        "X_train_scaled = scaler.fit_transform(X_train)\n",
        "X_test_scaled = scaler.transform(X_test)"
      ],
      "metadata": {
        "id": "lYGfaQqkjZBI"
      },
      "execution_count": 42,
      "outputs": []
    },
    {
      "cell_type": "markdown",
      "source": [
        "Логистическая регрессия"
      ],
      "metadata": {
        "id": "ZB6AVPKtkuM3"
      }
    },
    {
      "cell_type": "code",
      "source": [
        "from sklearn.linear_model import LogisticRegression\n",
        "\n",
        "logreg = LogisticRegression()\n",
        "logreg.fit(X_train_scaled, y_train)\n",
        "y_pred_logreg = logreg.predict(X_test_scaled)\n",
        "\n",
        "print(\"Accuracy of Logistic Regression:\", accuracy_score(y_test, y_pred_logreg))\n",
        "print(classification_report(y_test, y_pred_logreg))"
      ],
      "metadata": {
        "colab": {
          "base_uri": "https://localhost:8080/"
        },
        "id": "xnys1U9CjZF_",
        "outputId": "5534130c-4b16-4804-cfd1-3652848f6b25"
      },
      "execution_count": 43,
      "outputs": [
        {
          "output_type": "stream",
          "name": "stdout",
          "text": [
            "Accuracy of Logistic Regression: 0.851018675721562\n",
            "              precision    recall  f1-score   support\n",
            "\n",
            "           0       0.85      1.00      0.92      8026\n",
            "           1       0.46      0.02      0.05      1398\n",
            "\n",
            "    accuracy                           0.85      9424\n",
            "   macro avg       0.66      0.51      0.48      9424\n",
            "weighted avg       0.80      0.85      0.79      9424\n",
            "\n"
          ]
        }
      ]
    },
    {
      "cell_type": "code",
      "source": [],
      "metadata": {
        "id": "-ZOolvX07j0R"
      },
      "execution_count": null,
      "outputs": []
    },
    {
      "cell_type": "markdown",
      "source": [
        "Дерево решений"
      ],
      "metadata": {
        "id": "7SpRYK6pmCEb"
      }
    },
    {
      "cell_type": "code",
      "source": [
        "from sklearn.tree import DecisionTreeClassifier\n",
        "\n",
        "dt = DecisionTreeClassifier()\n",
        "dt.fit(X_train_scaled, y_train)\n",
        "y_pred_dt = dt.predict(X_test_scaled)\n",
        "\n",
        "print(\"Accuracy of Decision Tree:\", accuracy_score(y_test, y_pred_dt))\n",
        "print(classification_report(y_test, y_pred_dt))"
      ],
      "metadata": {
        "colab": {
          "base_uri": "https://localhost:8080/"
        },
        "id": "tpk7FVXvkv0-",
        "outputId": "9a9281af-8139-42c6-9655-e78b8911948b"
      },
      "execution_count": 44,
      "outputs": [
        {
          "output_type": "stream",
          "name": "stdout",
          "text": [
            "Accuracy of Decision Tree: 0.7640067911714771\n",
            "              precision    recall  f1-score   support\n",
            "\n",
            "           0       0.87      0.85      0.86      8026\n",
            "           1       0.23      0.25      0.24      1398\n",
            "\n",
            "    accuracy                           0.76      9424\n",
            "   macro avg       0.55      0.55      0.55      9424\n",
            "weighted avg       0.77      0.76      0.77      9424\n",
            "\n"
          ]
        }
      ]
    },
    {
      "cell_type": "code",
      "source": [
        "# функция с методом главных компонент\n",
        "pca = PCA()\n",
        "# пересчитываем в главные компоненты (ГК)\n",
        "X_train_pca = pca.fit_transform(X_train)\n",
        "\n",
        "# считаем доли объяснённой дисперсии\n",
        "frac_var_expl = pca.explained_variance_ratio_\n",
        "print('Доли объяснённой дисперсии по компонентам в PLS:\\n',\n",
        "     np.around(frac_var_expl, 3),\n",
        "     '\\nОбщая сумма долей:', np.around(sum(frac_var_expl), 3))"
      ],
      "metadata": {
        "colab": {
          "base_uri": "https://localhost:8080/"
        },
        "id": "jHAr46eVkv-E",
        "outputId": "948eb078-9105-44b2-99c1-40be01cd51b7"
      },
      "execution_count": 45,
      "outputs": [
        {
          "output_type": "stream",
          "name": "stdout",
          "text": [
            "Доли объяснённой дисперсии по компонентам в PLS:\n",
            " [0.336 0.195 0.132 0.056 0.054 0.038 0.032 0.019 0.018 0.017 0.015 0.012\n",
            " 0.01  0.009 0.008 0.007 0.007 0.005 0.004 0.003 0.003 0.002 0.002 0.002\n",
            " 0.002 0.001 0.001 0.001 0.001 0.001 0.001 0.001 0.001 0.001 0.001 0.001\n",
            " 0.001 0.001 0.    0.    0.    0.    0.    0.    0.    0.    0.    0.\n",
            " 0.    0.    0.    0.    0.    0.    0.    0.    0.    0.    0.    0.\n",
            " 0.    0.   ] \n",
            "Общая сумма долей: 1.0\n"
          ]
        }
      ]
    },
    {
      "cell_type": "markdown",
      "source": [
        "K-ближайших соседей"
      ],
      "metadata": {
        "id": "flXqw5qSoLTN"
      }
    },
    {
      "cell_type": "code",
      "source": [
        "from sklearn.neighbors import KNeighborsClassifier\n",
        "\n",
        "knn = KNeighborsClassifier()\n",
        "knn.fit(X_train_scaled, y_train)\n",
        "y_pred_knn = knn.predict(X_test_scaled)\n",
        "\n",
        "print(\"Accuracy of K-Nearest Neighbors:\", accuracy_score(y_test, y_pred_knn))\n",
        "print(classification_report(y_test, y_pred_knn))"
      ],
      "metadata": {
        "colab": {
          "base_uri": "https://localhost:8080/"
        },
        "id": "dGW4Dc1anTT-",
        "outputId": "19e9c868-1b2f-4b3e-bf4e-33e6a4dd0596"
      },
      "execution_count": 46,
      "outputs": [
        {
          "output_type": "stream",
          "name": "stdout",
          "text": [
            "Accuracy of K-Nearest Neighbors: 0.8387096774193549\n",
            "              precision    recall  f1-score   support\n",
            "\n",
            "           0       0.86      0.97      0.91      8026\n",
            "           1       0.35      0.10      0.15      1398\n",
            "\n",
            "    accuracy                           0.84      9424\n",
            "   macro avg       0.60      0.53      0.53      9424\n",
            "weighted avg       0.78      0.84      0.80      9424\n",
            "\n"
          ]
        }
      ]
    },
    {
      "cell_type": "markdown",
      "source": [
        "Рандомный лес"
      ],
      "metadata": {
        "id": "50d4TusvoT3U"
      }
    },
    {
      "cell_type": "code",
      "source": [
        "from sklearn.ensemble import RandomForestClassifier\n",
        "\n",
        "rf = RandomForestClassifier()\n",
        "rf.fit(X_train_scaled, y_train)\n",
        "y_pred_rf = rf.predict(X_test_scaled)\n",
        "\n",
        "print(\"Accuracy of Random Forest:\", accuracy_score(y_test, y_pred_rf))\n",
        "print(classification_report(y_test, y_pred_rf))"
      ],
      "metadata": {
        "colab": {
          "base_uri": "https://localhost:8080/"
        },
        "id": "52n2UQVBnTeJ",
        "outputId": "745a0268-4034-4081-80e8-c03413c0fd16"
      },
      "execution_count": 47,
      "outputs": [
        {
          "output_type": "stream",
          "name": "stdout",
          "text": [
            "Accuracy of Random Forest: 0.8441213921901528\n",
            "              precision    recall  f1-score   support\n",
            "\n",
            "           0       0.86      0.97      0.91      8026\n",
            "           1       0.40      0.10      0.15      1398\n",
            "\n",
            "    accuracy                           0.84      9424\n",
            "   macro avg       0.63      0.54      0.53      9424\n",
            "weighted avg       0.79      0.84      0.80      9424\n",
            "\n"
          ]
        }
      ]
    },
    {
      "cell_type": "code",
      "source": [
        "import numpy as np\n",
        "import pandas as pd\n",
        "from sklearn.decomposition import PCA\n",
        "from sklearn.model_selection import train_test_split\n",
        "from sklearn.ensemble import RandomForestRegressor\n",
        "import matplotlib.pyplot as plt\n",
        "from sklearn.linear_model import LogisticRegression\n",
        "from sklearn.metrics import accuracy_score\n",
        "from sklearn.ensemble import RandomForestClassifier\n",
        "from sklearn.preprocessing import StandardScaler\n",
        "from sklearn.decomposition import FactorAnalysis"
      ],
      "metadata": {
        "id": "uQjMjUro8LVR"
      },
      "execution_count": 49,
      "outputs": []
    },
    {
      "cell_type": "code",
      "source": [
        "#Создание модели случайного леса\n",
        "rf = RandomForestRegressor(n_estimators=100, random_state=42)\n",
        "\n",
        "#Обучение модели на обучающей выборке\n",
        "rf.fit(X_train, y_train)\n",
        "\n",
        "#Получение важности факторов\n",
        "importances = rf.feature_importances_\n",
        "\n",
        "#Сохранение важности факторов в датафрейм и сортировка по убыванию\n",
        "df_importances = pd.DataFrame({'feature': X_train.columns, 'importance': importances}).sort_values('importance', ascending=False)\n",
        "\n",
        "#Вывод 10 наиболее важных факторов\n",
        "print(df_importances.head(10))\n",
        "\n",
        "#Построение графика важности факторов\n",
        "plt.figure(figsize=(10,6))\n",
        "plt.barh(df_importances['feature'], df_importances['importance'])\n",
        "plt.xlabel('Важность')\n",
        "plt.ylabel('Фактор')\n",
        "plt.title('Важность факторов в модели случайного леса')\n",
        "plt.show()\n",
        "\n",
        "#Вывод наиболее важных факторов\n",
        "top_factors = df_importances.head(5)['feature'].values.tolist()\n",
        "print(f\"Наиболее важные факторы: {top_factors}\")"
      ],
      "metadata": {
        "colab": {
          "base_uri": "https://localhost:8080/",
          "height": 602
        },
        "id": "azTKbpxs8B8M",
        "outputId": "5f38b882-5cad-496c-8d9d-1243268a2c8f"
      },
      "execution_count": 50,
      "outputs": [
        {
          "output_type": "stream",
          "name": "stdout",
          "text": [
            "                                              feature  importance\n",
            "1                                              region    0.199878\n",
            "60                                               hour    0.174635\n",
            "61                                              month    0.151410\n",
            "0                                  participants_count    0.062327\n",
            "3                                               light    0.049208\n",
            "2                                            category    0.043967\n",
            "52  Отсутствие, плохая различимость горизонтальной...    0.029239\n",
            "12                                           Пасмурно    0.025426\n",
            "9                                            Пешеходы    0.023641\n",
            "18                                               Ясно    0.020877\n"
          ]
        },
        {
          "output_type": "display_data",
          "data": {
            "text/plain": [
              "<Figure size 1000x600 with 1 Axes>"
            ],
            "image/png": "[encoded data removed]"
          },
          "metadata": {}
        },
        {
          "output_type": "stream",
          "name": "stdout",
          "text": [
            "Наиболее важные факторы: ['region', 'hour', 'month', 'participants_count', 'light']\n"
          ]
        }
      ]
    },
    {
      "cell_type": "code",
      "source": [
        "#Создание модели логистической регрессии и обучение ее на обучающей выборке\n",
        "logreg = LogisticRegression()\n",
        "logreg.fit(X_train, y_train)\n",
        "\n",
        "#Предсказание на обучающей и тестовой выборках\n",
        "train_predictions = logreg.predict(X_train)\n",
        "test_predictions = logreg.predict(X_test)\n",
        "\n",
        "#Оценка точности на обучающей и тестовой выборках\n",
        "train_accuracy = accuracy_score(y_train, train_predictions)\n",
        "test_accuracy = accuracy_score(y_test, test_predictions)\n",
        "\n",
        "print(f\"Точность модели на обучающей выборке: {train_accuracy:.4f}\")\n",
        "print(f\"Точность модели на тестовой выборке: {test_accuracy:.4f}\")"
      ],
      "metadata": {
        "colab": {
          "base_uri": "https://localhost:8080/"
        },
        "id": "uYccaoQt8pF7",
        "outputId": "62ee6c90-e7fc-4e0a-bc7d-7a50807d452f"
      },
      "execution_count": 51,
      "outputs": [
        {
          "output_type": "stream",
          "name": "stdout",
          "text": [
            "Точность модели на обучающей выборке: 0.8528\n",
            "Точность модели на тестовой выборке: 0.8505\n"
          ]
        },
        {
          "output_type": "stream",
          "name": "stderr",
          "text": [
            "/usr/local/lib/python3.10/dist-packages/sklearn/linear_model/_logistic.py:458: ConvergenceWarning: lbfgs failed to converge (status=1):\n",
            "STOP: TOTAL NO. of ITERATIONS REACHED LIMIT.\n",
            "\n",
            "Increase the number of iterations (max_iter) or scale the data as shown in:\n",
            "    https://scikit-learn.org/stable/modules/preprocessing.html\n",
            "Please also refer to the documentation for alternative solver options:\n",
            "    https://scikit-learn.org/stable/modules/linear_model.html#logistic-regression\n",
            "  n_iter_i = _check_optimize_result(\n"
          ]
        }
      ]
    },
    {
      "cell_type": "markdown",
      "source": [
        "Точность модели на тестовой выборке не сильно отличается от точности на обучающей выборке. Это равносильно случайному угадыванию. Таким образом, точность является высокой и показывает, что модель может надежно предсказывать целевую переменную."
      ],
      "metadata": {
        "id": "gVDME98P8xhN"
      }
    },
    {
      "cell_type": "markdown",
      "source": [
        "Градиентный бустинг"
      ],
      "metadata": {
        "id": "HMwpYeBfodqJ"
      }
    },
    {
      "cell_type": "code",
      "source": [
        "from sklearn.ensemble import GradientBoostingClassifier\n",
        "\n",
        "gb = GradientBoostingClassifier()\n",
        "gb.fit(X_train_scaled, y_train)\n",
        "y_pred_gb = gb.predict(X_test_scaled)\n",
        "\n",
        "print(\"Accuracy of Gradient Boosting:\", accuracy_score(y_test, y_pred_gb))\n",
        "print(classification_report(y_test, y_pred_gb))"
      ],
      "metadata": {
        "colab": {
          "base_uri": "https://localhost:8080/"
        },
        "id": "Mx0Czh_ikwfT",
        "outputId": "a0cf3395-b510-4833-ff71-953f09099db1"
      },
      "execution_count": 52,
      "outputs": [
        {
          "output_type": "stream",
          "name": "stdout",
          "text": [
            "Accuracy of Gradient Boosting: 0.8545203735144312\n",
            "              precision    recall  f1-score   support\n",
            "\n",
            "           0       0.86      0.99      0.92      8026\n",
            "           1       0.60      0.06      0.10      1398\n",
            "\n",
            "    accuracy                           0.85      9424\n",
            "   macro avg       0.73      0.52      0.51      9424\n",
            "weighted avg       0.82      0.85      0.80      9424\n",
            "\n"
          ]
        }
      ]
    },
    {
      "cell_type": "markdown",
      "source": [
        "Метод опорных векторов (SVM)"
      ],
      "metadata": {
        "id": "f-H5_tsDotkO"
      }
    },
    {
      "cell_type": "code",
      "source": [
        "from sklearn.svm import SVC\n",
        "\n",
        "svm = SVC()\n",
        "svm.fit(X_train_scaled, y_train)\n",
        "y_pred_svm = svm.predict(X_test_scaled)\n",
        "\n",
        "print(\"Accuracy of Support Vector Machines:\", accuracy_score(y_test, y_pred_svm))\n",
        "print(classification_report(y_test, y_pred_svm))"
      ],
      "metadata": {
        "colab": {
          "base_uri": "https://localhost:8080/"
        },
        "id": "whmYSoM-ogSS",
        "outputId": "97e6f792-7986-48d6-ea70-7c3fbe1a186a"
      },
      "execution_count": 53,
      "outputs": [
        {
          "output_type": "stream",
          "name": "stdout",
          "text": [
            "Accuracy of Support Vector Machines: 0.8517614601018676\n",
            "              precision    recall  f1-score   support\n",
            "\n",
            "           0       0.85      1.00      0.92      8026\n",
            "           1       0.60      0.00      0.00      1398\n",
            "\n",
            "    accuracy                           0.85      9424\n",
            "   macro avg       0.73      0.50      0.46      9424\n",
            "weighted avg       0.81      0.85      0.78      9424\n",
            "\n"
          ]
        }
      ]
    },
    {
      "cell_type": "markdown",
      "source": [
        "Нейронная сеть (MLP)"
      ],
      "metadata": {
        "id": "lRggVvYaqGgz"
      }
    },
    {
      "cell_type": "code",
      "source": [
        "from sklearn.neural_network import MLPClassifier\n",
        "\n",
        "mlp = MLPClassifier()\n",
        "mlp.fit(X_train_scaled, y_train)\n",
        "y_pred_mlp = mlp.predict(X_test_scaled)\n",
        "\n",
        "print(\"Accuracy of Multilayer Perceptron:\", accuracy_score(y_test, y_pred_mlp))\n",
        "print(classification_report(y_test, y_pred_mlp))"
      ],
      "metadata": {
        "colab": {
          "base_uri": "https://localhost:8080/"
        },
        "id": "ZZzKiHLzogyz",
        "outputId": "3f53ca06-3ccd-47cc-bda4-d1c521e3f4d7"
      },
      "execution_count": 54,
      "outputs": [
        {
          "output_type": "stream",
          "name": "stdout",
          "text": [
            "Accuracy of Multilayer Perceptron: 0.8425297113752123\n",
            "              precision    recall  f1-score   support\n",
            "\n",
            "           0       0.86      0.97      0.91      8026\n",
            "           1       0.40      0.12      0.18      1398\n",
            "\n",
            "    accuracy                           0.84      9424\n",
            "   macro avg       0.63      0.54      0.55      9424\n",
            "weighted avg       0.79      0.84      0.80      9424\n",
            "\n"
          ]
        },
        {
          "output_type": "stream",
          "name": "stderr",
          "text": [
            "/usr/local/lib/python3.10/dist-packages/sklearn/neural_network/_multilayer_perceptron.py:686: ConvergenceWarning: Stochastic Optimizer: Maximum iterations (200) reached and the optimization hasn't converged yet.\n",
            "  warnings.warn(\n"
          ]
        }
      ]
    },
    {
      "cell_type": "code",
      "source": [
        "from sklearn.model_selection import cross_val_score\n",
        "\n",
        "models = [logreg, knn, dt, rf, gb, svm, mlp]\n",
        "model_names = ['Logistic Regression', 'K-Nearest Neighbors', 'Decision Tree', 'Random Forest', 'Gradient Boosting', 'Support Vector Machines', 'Multilayer Perceptron']\n",
        "\n",
        "for model, name in zip(models, model_names):\n",
        "    scores = cross_val_score(model, X_train_scaled, y_train, cv=5, scoring='accuracy')\n",
        "    print(f\"{name}: {np.mean(scores)} +/- {np.std(scores)}\")"
      ],
      "metadata": {
        "colab": {
          "base_uri": "https://localhost:8080/"
        },
        "id": "z-maeLnHohIH",
        "outputId": "8463b1ee-360d-48d3-b889-c67392554f7f"
      },
      "execution_count": null,
      "outputs": [
        {
          "output_type": "stream",
          "name": "stdout",
          "text": [
            "Logistic Regression: 0.8522615731529382 +/- 0.0005775710586835771\n",
            "K-Nearest Neighbors: 0.8381482955299111 +/- 0.0030622000860608626\n",
            "Decision Tree: 0.7608170844939647 +/- 0.004003463842517218\n",
            "Random Forest: 0.8440907282132908 +/- 0.0025687690010686307\n",
            "Gradient Boosting: 0.8540124684971481 +/- 0.0010828137223482432\n",
            "Support Vector Machines: 0.852367688022284 +/- 8.389117018618567e-05\n"
          ]
        },
        {
          "output_type": "stream",
          "name": "stderr",
          "text": [
            "/usr/local/lib/python3.10/dist-packages/sklearn/neural_network/_multilayer_perceptron.py:686: ConvergenceWarning: Stochastic Optimizer: Maximum iterations (200) reached and the optimization hasn't converged yet.\n",
            "  warnings.warn(\n",
            "/usr/local/lib/python3.10/dist-packages/sklearn/neural_network/_multilayer_perceptron.py:686: ConvergenceWarning: Stochastic Optimizer: Maximum iterations (200) reached and the optimization hasn't converged yet.\n",
            "  warnings.warn(\n",
            "/usr/local/lib/python3.10/dist-packages/sklearn/neural_network/_multilayer_perceptron.py:686: ConvergenceWarning: Stochastic Optimizer: Maximum iterations (200) reached and the optimization hasn't converged yet.\n",
            "  warnings.warn(\n",
            "/usr/local/lib/python3.10/dist-packages/sklearn/neural_network/_multilayer_perceptron.py:686: ConvergenceWarning: Stochastic Optimizer: Maximum iterations (200) reached and the optimization hasn't converged yet.\n",
            "  warnings.warn(\n"
          ]
        },
        {
          "output_type": "stream",
          "name": "stdout",
          "text": [
            "Multilayer Perceptron: 0.8437458548879162 +/- 0.0018398770005995152\n"
          ]
        },
        {
          "output_type": "stream",
          "name": "stderr",
          "text": [
            "/usr/local/lib/python3.10/dist-packages/sklearn/neural_network/_multilayer_perceptron.py:686: ConvergenceWarning: Stochastic Optimizer: Maximum iterations (200) reached and the optimization hasn't converged yet.\n",
            "  warnings.warn(\n"
          ]
        }
      ]
    },
    {
      "cell_type": "code",
      "source": [
        "from sklearn.model_selection import GridSearchCV\n",
        "\n",
        "# Пример настройки гиперпараметров для случайного леса:\n",
        "param_grid = {\n",
        "    'n_estimators': [10, 50, 100, 200],\n",
        "    'max_depth': [None, 10, 20, 30],\n",
        "    'min_samples_split': [2, 5, 10],\n",
        "    'min_samples_leaf': [1, 2, 4],\n",
        "    'bootstrap': [True, False]\n",
        "}\n",
        "\n",
        "grid_search = GridSearchCV(rf, param_grid, cv=5, scoring='accuracy', n_jobs=-1)\n",
        "grid_search.fit(X_train_scaled, y_train)\n",
        "\n",
        "best_rf = grid_search.best_estimator_\n",
        "print(\"Best Random Forest:\", best_rf)"
      ],
      "metadata": {
        "colab": {
          "base_uri": "https://localhost:8080/"
        },
        "id": "KHfejUS0oheq",
        "outputId": "5526c752-c522-4869-8d2e-2f6116a63a2f"
      },
      "execution_count": null,
      "outputs": [
        {
          "output_type": "stream",
          "name": "stdout",
          "text": [
            "Best Random Forest: RandomForestClassifier(bootstrap=False, min_samples_leaf=2,\n",
            "                       min_samples_split=10, n_estimators=200)\n"
          ]
        }
      ]
    },
    {
      "cell_type": "code",
      "source": [
        "y_pred_best_rf = best_rf.predict(X_test_scaled)\n",
        "print(\"Accuracy of Best Random Forest:\", accuracy_score(y_test, y_pred_best_rf))\n",
        "print(classification_report(y_test, y_pred_best_rf))"
      ],
      "metadata": {
        "colab": {
          "base_uri": "https://localhost:8080/"
        },
        "id": "VyKu0FjQkwmL",
        "outputId": "fa9c92e3-d1f0-4932-f563-5c3601d97ae7"
      },
      "execution_count": null,
      "outputs": [
        {
          "output_type": "stream",
          "name": "stdout",
          "text": [
            "Accuracy of Best Random Forest: 0.8551570458404074\n",
            "              precision    recall  f1-score   support\n",
            "\n",
            "           0       0.86      0.99      0.92      8026\n",
            "           1       0.63      0.06      0.11      1398\n",
            "\n",
            "    accuracy                           0.86      9424\n",
            "   macro avg       0.74      0.53      0.51      9424\n",
            "weighted avg       0.82      0.86      0.80      9424\n",
            "\n"
          ]
        }
      ]
    },
    {
      "cell_type": "code",
      "source": [],
      "metadata": {
        "id": "0rgcGKPC_r3c"
      },
      "execution_count": null,
      "outputs": []
    },
    {
      "cell_type": "code",
      "source": [],
      "metadata": {
        "id": "XmOUUjqN_sb6"
      },
      "execution_count": null,
      "outputs": []
    }
  ],
  "metadata": {
    "colab": {
      "provenance": []
    },
    "kernelspec": {
      "display_name": "Python 3",
      "name": "python3"
    },
    "language_info": {
      "name": "python"
    }
  },
  "nbformat": 4,
  "nbformat_minor": 0
}